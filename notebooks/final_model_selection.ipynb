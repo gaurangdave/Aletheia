{
 "cells": [
  {
   "attachments": {},
   "cell_type": "markdown",
   "metadata": {},
   "source": [
    "# Final Model Selection"
   ]
  },
  {
   "attachments": {},
   "cell_type": "markdown",
   "metadata": {},
   "source": [
    "* The notebook to perform some random testing on the models we created so far, eye ball to the results and select a model to perform topic modelling on all our data. \n",
    "* Our testing and modelling so far has helped us conclude that we are going to use the `Apify` dataset but its a larger dataset with varied topics and we are going to use the `text` topic models instead of `title` models because of the performance. \n",
    "* In this worksheet we'll manually verify few models which were closer in performance and had somewhat right balance between `coherence score`,  `number of topics` and `topic terms` and `inter-distance maps`"
   ]
  },
  {
   "attachments": {},
   "cell_type": "markdown",
   "metadata": {},
   "source": [
    "## Table Of Contents"
   ]
  },
  {
   "attachments": {},
   "cell_type": "markdown",
   "metadata": {},
   "source": [
    "## Installations"
   ]
  },
  {
   "cell_type": "code",
   "execution_count": 3,
   "metadata": {},
   "outputs": [
    {
     "name": "stdout",
     "output_type": "stream",
     "text": [
      "Requirement already satisfied: pandas in d:\\workspace\\aletheia\\env\\lib\\site-packages (1.5.2)\n",
      "Requirement already satisfied: numpy>=1.21.0 in d:\\workspace\\aletheia\\env\\lib\\site-packages (from pandas) (1.23.5)\n",
      "Requirement already satisfied: pytz>=2020.1 in d:\\workspace\\aletheia\\env\\lib\\site-packages (from pandas) (2022.6)\n",
      "Requirement already satisfied: python-dateutil>=2.8.1 in d:\\workspace\\aletheia\\env\\lib\\site-packages (from pandas) (2.8.2)\n",
      "Requirement already satisfied: six>=1.5 in d:\\workspace\\aletheia\\env\\lib\\site-packages (from python-dateutil>=2.8.1->pandas) (1.16.0)\n"
     ]
    },
    {
     "name": "stderr",
     "output_type": "stream",
     "text": [
      "\n",
      "[notice] A new release of pip available: 22.2.2 -> 22.3.1\n",
      "[notice] To update, run: python.exe -m pip install --upgrade pip\n"
     ]
    }
   ],
   "source": [
    "!pip install pandas"
   ]
  },
  {
   "attachments": {},
   "cell_type": "markdown",
   "metadata": {},
   "source": [
    "## Imports"
   ]
  },
  {
   "cell_type": "code",
   "execution_count": 13,
   "metadata": {},
   "outputs": [],
   "source": [
    "# loading library\n",
    "import pickle\n",
    "import pandas as pd\n",
    "\n",
    "from gensim.models.ldamodel import LdaModel\n"
   ]
  },
  {
   "attachments": {},
   "cell_type": "markdown",
   "metadata": {},
   "source": [
    "## Utility Functions"
   ]
  },
  {
   "cell_type": "code",
   "execution_count": 19,
   "metadata": {},
   "outputs": [],
   "source": [
    "## helper function to load gensim model from disk\n",
    "def load_model(model_path):\n",
    "    with open(model_path, 'rb') as model:\n",
    "        lda = pickle.load(model)\n",
    "        return lda"
   ]
  },
  {
   "attachments": {},
   "cell_type": "markdown",
   "metadata": {},
   "source": [
    "## Read Data"
   ]
  },
  {
   "cell_type": "code",
   "execution_count": null,
   "metadata": {},
   "outputs": [
    {
     "name": "stdout",
     "output_type": "stream",
     "text": [
      "(11003, 13)\n"
     ]
    }
   ],
   "source": [
    "## reading manaully scrapped data\n",
    "data = pd.read_csv('../data/apify_dataset_clean.csv')\n",
    "print(data.shape)"
   ]
  },
  {
   "cell_type": "code",
   "execution_count": null,
   "metadata": {},
   "outputs": [
    {
     "data": {
      "text/plain": [
       "3241"
      ]
     },
     "metadata": {},
     "output_type": "display_data"
    }
   ],
   "source": [
    "## check for duplicates\n",
    "data[\"text\"].duplicated().sum()"
   ]
  },
  {
   "cell_type": "code",
   "execution_count": 15,
   "metadata": {},
   "outputs": [],
   "source": [
    "## handle and clean duplicates\n",
    "data.drop_duplicates(subset =\"text\", inplace = True)"
   ]
  },
  {
   "cell_type": "code",
   "execution_count": null,
   "metadata": {},
   "outputs": [
    {
     "data": {
      "text/plain": [
       "0"
      ]
     },
     "metadata": {},
     "output_type": "display_data"
    }
   ],
   "source": [
    "## verify duplicates are removed\n",
    "data[\"text\"].duplicated().sum()"
   ]
  },
  {
   "attachments": {},
   "cell_type": "markdown",
   "metadata": {},
   "source": [
    "## Read Test Data"
   ]
  },
  {
   "cell_type": "code",
   "execution_count": 10,
   "metadata": {},
   "outputs": [
    {
     "data": {
      "text/plain": [
       "'The father of a 20-year-old Indiana tourist shot and killed in New York City ripped New York Democratic Gov. Kathy Hochul as \"tone-deaf to the suffering of families like mine,\" according to a report.\\n\\nEthan Williams, a sophomore who was studying film media at Indiana University, was reportedly on a \"dream trip\" to New York City when he was shot in the chest while sitting on the stoop of an Airbnb with friends in Bushwick, Brooklyn, at about 2:30 a.m. on Oct. 24, 2020.\\n\\nAn arrest was not made until last week, when 26-year-old William Freeman was taken into custody.\\n\\nFreeman allegedly told investigators that he mistook one of Williams’ friends for a rival gang member who had killed his cousin when he opened fire toward the group more than two years ago.\\n\\nTo the objection of prosecutors, Freeman, who has nine prior arrests, was granted $350,000 bail by Brooklyn Criminal Court judge Leigh Cheng, according to the New York Post.\\n\\nWilliams’ father, Jason Williams, blasted the decision, as well as Hochul, during an interview with the outlet.\\n\\nThe elder Williams referred to an exchange between Hochul and Republican candidate for governor, Rep. Lee Zeldin, during their first and only debate in October. Halfway through the debate, Zeldin lamented that Hochul, \"still hasn’t talked about locking up anyone who commits any crimes.\"\\n\\nHochul responded, \"anyone who commits a crime under our laws, especially with the change they made to bail, has consequences. I don’t know why that’s so important to you.\"\\n\\n\"To hear one candidate say to another, ‘I’m not sure why that’s so important to you’ in regards to crime surges in New York is tone-deaf to the suffering of families like mine,\" Jason Williams told The Post. \"Tone-deaf toward women, such as the jogger raped in Manhattan just last week. And tone-deaf towards surges of violence against Asian Americans.\"\\n\\nNY TEEN CHARGED IN SHOOTING OUTSIDE REPUBLICAN CANDIDATE LEE ZELDIN\\'S HOME ORDERED HELD ON $1M CASH BAIL\\n\\nJason Williams said, \"what happens in New York ripples throughout the nation,\" warning that \"the weight of silence of your elected leaders has not gone unnoticed.\"\\n\\nFreeman already had a warrant out for his arrest in connection to a January petit larceny case when he was pulled over by NYPD officers on Thursday for not having a front license plate and not wearing a seatbelt, prosecutors said.\\n\\nAccording to the Post, his record is mostly sealed, but he was arrested for gun possession on Sept. 8, 2018, and a domestic violence assault case on April 27, 2019.\\n\\n\"My son is dead because a criminal with nine previous arrests was free, walking the streets of New York City,\" Jason Williams told The Post on Monday. \"I will also note that even though my son was a high-profile victim and one of the only tourists to be gunned down in many years, with national news coverage, not once did I receive condolences from Mayor de Blasio, Mayor Adams or Gov. Cuomo.\"\\n\\nThough Freeman still remained held on the $300,000 bail at Rikers Island on Monday, prosecutors and Jason Williams lamented that any bail had been set by the judge in the first place.\\n\\n\"I would say that regardless of your politics, Republican or Democrat, this is a serious problem for New Yorkers and a problem you must deal with before, God forbid, your phone rings,\" Jason Williams said. \"Much of the conversation around bail reform has become nothing more than a boxing match over which elections are being decided.\"\\n\\nCLICK TO GET THE FOX NEWS APP\\n\\n\"I’m also aware, sadly, that this has become a political issue. For my part, however, I do not see this as a political issue but rather a human one,\" he added. \"It doesn’t matter what side of the line you are on when you answer the phone to be told that your child has been ‘shot. And Mr. Williams — it’s really bad.\\'\"'"
      ]
     },
     "execution_count": 10,
     "metadata": {},
     "output_type": "execute_result"
    }
   ],
   "source": [
    "test_article = data['text'].sample(1).values[0]\n",
    "test_article"
   ]
  },
  {
   "attachments": {},
   "cell_type": "markdown",
   "metadata": {},
   "source": [
    "## Testing BOW Models"
   ]
  },
  {
   "attachments": {},
   "cell_type": "markdown",
   "metadata": {},
   "source": [
    "## Testing Bi-Grams Models"
   ]
  },
  {
   "cell_type": "code",
   "execution_count": 20,
   "metadata": {},
   "outputs": [],
   "source": [
    "### load models\n",
    "model_v1 = load_model('../final_models/apify_data/text/gensim_bigrams_v1/15_topics_250_passes_120_iterations.pkl')"
   ]
  },
  {
   "cell_type": "code",
   "execution_count": 21,
   "metadata": {},
   "outputs": [
    {
     "data": {
      "text/plain": [
       "<gensim.models.ldamodel.LdaModel at 0x2635f2f8a00>"
      ]
     },
     "execution_count": 21,
     "metadata": {},
     "output_type": "execute_result"
    }
   ],
   "source": [
    "model_v1"
   ]
  },
  {
   "cell_type": "code",
   "execution_count": 24,
   "metadata": {},
   "outputs": [
    {
     "ename": "AttributeError",
     "evalue": "'LdaModel' object has no attribute 'transform'",
     "output_type": "error",
     "traceback": [
      "\u001b[1;31m---------------------------------------------------------------------------\u001b[0m",
      "\u001b[1;31mAttributeError\u001b[0m                            Traceback (most recent call last)",
      "Cell \u001b[1;32mIn [24], line 2\u001b[0m\n\u001b[0;32m      1\u001b[0m model_v1\u001b[39m.\u001b[39mprint_topics()\n\u001b[1;32m----> 2\u001b[0m model_v1\u001b[39m.\u001b[39;49mtransform([test_article])\n",
      "\u001b[1;31mAttributeError\u001b[0m: 'LdaModel' object has no attribute 'transform'"
     ]
    }
   ],
   "source": [
    "model_v1.print_topics()\n",
    "model_v1.f"
   ]
  },
  {
   "cell_type": "markdown",
   "metadata": {},
   "source": []
  }
 ],
 "metadata": {
  "kernelspec": {
   "display_name": "env",
   "language": "python",
   "name": "python3"
  },
  "language_info": {
   "codemirror_mode": {
    "name": "ipython",
    "version": 3
   },
   "file_extension": ".py",
   "mimetype": "text/x-python",
   "name": "python",
   "nbconvert_exporter": "python",
   "pygments_lexer": "ipython3",
   "version": "3.10.9 (tags/v3.10.9:1dd9be6, Dec  6 2022, 20:01:21) [MSC v.1934 64 bit (AMD64)]"
  },
  "orig_nbformat": 4,
  "vscode": {
   "interpreter": {
    "hash": "914eef65da1375b54976b1eb4c0a6192cf68c9b736369c9231d1c03e2f3fef86"
   }
  }
 },
 "nbformat": 4,
 "nbformat_minor": 2
}
