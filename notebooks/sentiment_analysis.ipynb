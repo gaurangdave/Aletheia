{
 "cells": [
  {
   "attachments": {},
   "cell_type": "markdown",
   "metadata": {},
   "source": [
    "# Sentiment Analysis Of News Articles"
   ]
  },
  {
   "attachments": {},
   "cell_type": "markdown",
   "metadata": {},
   "source": [
    "* The purpose of this notebook is to run sentiment analysis on news articles and update the dataset with the results. \n",
    "* We've decided to use a pre-trained model for this because, \n",
    "    * The time constraint for this project, blocks us from training a custom sentiment analysis model. \n",
    "    * Would like to take this opportunity to learn how to use pre-trained models and transfer learning. \n",
    "* We are going to use a pretrained model, which was trained for sentiment analysis on twitter.\n",
    "* All the research and prototyping on how to use this model was done in a spearate notebook `poc_sentiment_analysis`"
   ]
  },
  {
   "attachments": {},
   "cell_type": "markdown",
   "metadata": {},
   "source": [
    "## Installations"
   ]
  },
  {
   "cell_type": "code",
   "execution_count": 1,
   "metadata": {},
   "outputs": [
    {
     "name": "stdout",
     "output_type": "stream",
     "text": [
      "Requirement already satisfied: transformers in d:\\workspace\\aletheia\\env\\lib\\site-packages (4.21.3)"
     ]
    },
    {
     "name": "stderr",
     "output_type": "stream",
     "text": [
      "\n",
      "[notice] A new release of pip available: 22.2.2 -> 22.3.1\n",
      "[notice] To update, run: python.exe -m pip install --upgrade pip\n"
     ]
    },
    {
     "name": "stdout",
     "output_type": "stream",
     "text": [
      "\n",
      "Requirement already satisfied: packaging>=20.0 in d:\\workspace\\aletheia\\env\\lib\\site-packages (from transformers) (21.3)\n",
      "Requirement already satisfied: requests in d:\\workspace\\aletheia\\env\\lib\\site-packages (from transformers) (2.28.1)\n",
      "Requirement already satisfied: filelock in d:\\workspace\\aletheia\\env\\lib\\site-packages (from transformers) (3.8.0)\n",
      "Requirement already satisfied: tokenizers!=0.11.3,<0.13,>=0.11.1 in d:\\workspace\\aletheia\\env\\lib\\site-packages (from transformers) (0.12.1)\n",
      "Requirement already satisfied: huggingface-hub<1.0,>=0.1.0 in d:\\workspace\\aletheia\\env\\lib\\site-packages (from transformers) (0.11.0)\n",
      "Requirement already satisfied: tqdm>=4.27 in d:\\workspace\\aletheia\\env\\lib\\site-packages (from transformers) (4.64.1)\n",
      "Requirement already satisfied: regex!=2019.12.17 in d:\\workspace\\aletheia\\env\\lib\\site-packages (from transformers) (2022.10.31)\n",
      "Requirement already satisfied: numpy>=1.17 in d:\\workspace\\aletheia\\env\\lib\\site-packages (from transformers) (1.23.5)\n",
      "Requirement already satisfied: pyyaml>=5.1 in d:\\workspace\\aletheia\\env\\lib\\site-packages (from transformers) (6.0)\n",
      "Requirement already satisfied: typing-extensions>=3.7.4.3 in d:\\workspace\\aletheia\\env\\lib\\site-packages (from huggingface-hub<1.0,>=0.1.0->transformers) (4.4.0)\n",
      "Requirement already satisfied: pyparsing!=3.0.5,>=2.0.2 in d:\\workspace\\aletheia\\env\\lib\\site-packages (from packaging>=20.0->transformers) (3.0.9)\n",
      "Requirement already satisfied: colorama in d:\\workspace\\aletheia\\env\\lib\\site-packages (from tqdm>=4.27->transformers) (0.4.6)\n",
      "Requirement already satisfied: urllib3<1.27,>=1.21.1 in d:\\workspace\\aletheia\\env\\lib\\site-packages (from requests->transformers) (1.26.13)\n",
      "Requirement already satisfied: certifi>=2017.4.17 in d:\\workspace\\aletheia\\env\\lib\\site-packages (from requests->transformers) (2022.9.24)\n",
      "Requirement already satisfied: idna<4,>=2.5 in d:\\workspace\\aletheia\\env\\lib\\site-packages (from requests->transformers) (3.4)\n",
      "Requirement already satisfied: charset-normalizer<3,>=2 in d:\\workspace\\aletheia\\env\\lib\\site-packages (from requests->transformers) (2.1.1)\n",
      "Requirement already satisfied: torch in d:\\workspace\\aletheia\\env\\lib\\site-packages (1.13.0)\n",
      "Requirement already satisfied: typing-extensions in d:\\workspace\\aletheia\\env\\lib\\site-packages (from torch) (4.4.0)\n"
     ]
    },
    {
     "name": "stderr",
     "output_type": "stream",
     "text": [
      "\n",
      "[notice] A new release of pip available: 22.2.2 -> 22.3.1\n",
      "[notice] To update, run: python.exe -m pip install --upgrade pip\n"
     ]
    }
   ],
   "source": [
    "# # ## installing required libraries\n",
    "# ! pip install beautifulsoup4\n",
    "# ! pip install pandas\n",
    "# ! pip install numpy\n",
    "# ! pip install plotly\n",
    "# ! pip install nbformat\n",
    "# ! pip install ipykernel\n",
    "# ! pip install matplotlip\n",
    "# ! pip install wordcloud\n",
    "# ! pip install gensim\n",
    "# ! pip install pyLDAvis\n",
    "# ! pip install nltk\n",
    "# ! pip install -U pip setuptools wheel\n",
    "# ! pip install -U spacy\n",
    "# ! python -m spacy download en_core_web_trf \n",
    "# ! python -m spacy download en_core_web_md\n",
    "# ! pip install joblib\n",
    "# ! pip install tqdm\n",
    "! pip install transformers\n",
    "! pip install torch"
   ]
  },
  {
   "attachments": {},
   "cell_type": "markdown",
   "metadata": {},
   "source": [
    "## Imports"
   ]
  },
  {
   "cell_type": "code",
   "execution_count": 2,
   "metadata": {},
   "outputs": [
    {
     "name": "stderr",
     "output_type": "stream",
     "text": [
      "d:\\workspace\\Aletheia\\env\\lib\\site-packages\\tqdm\\auto.py:22: TqdmWarning: IProgress not found. Please update jupyter and ipywidgets. See https://ipywidgets.readthedocs.io/en/stable/user_install.html\n",
      "  from .autonotebook import tqdm as notebook_tqdm\n"
     ]
    }
   ],
   "source": [
    "from tqdm.auto import tqdm\n",
    "from transformers import AutoTokenizer, AutoModelForSequenceClassification, AutoConfig\n",
    "from scipy.special import softmax\n",
    "\n",
    "import pandas as pd\n",
    "import torch\n"
   ]
  },
  {
   "attachments": {},
   "cell_type": "markdown",
   "metadata": {},
   "source": [
    "## Utility Functions"
   ]
  },
  {
   "cell_type": "code",
   "execution_count": 42,
   "metadata": {},
   "outputs": [],
   "source": [
    "## helper function to process the long text and break it into smaller chunks\n",
    "def process_long_text(text, tokenizer):\n",
    "    tokens = tokenizer.encode_plus(text, add_special_tokens=False, return_tensors=\"pt\")\n",
    "    # define target chunksize\n",
    "    chunksize = 512\n",
    "\n",
    "    # split into chunks of 510 tokens, we also convert to list (default is tuple which is immutable)\n",
    "    input_id_chunks = list(tokens['input_ids'][0].split(chunksize - 2))\n",
    "    mask_chunks = list(tokens['attention_mask'][0].split(chunksize - 2))\n",
    "\n",
    "\n",
    "    # loop through each chunk\n",
    "    for i in range(len(input_id_chunks)):\n",
    "        # add CLS and SEP tokens to input IDs\n",
    "        input_id_chunks[i] = torch.cat([\n",
    "            torch.tensor([101]), input_id_chunks[i], torch.tensor([102])\n",
    "        ])\n",
    "        # add attention tokens to attention mask\n",
    "        mask_chunks[i] = torch.cat([\n",
    "            torch.tensor([1]), mask_chunks[i], torch.tensor([1])\n",
    "        ])\n",
    "        # get required padding length\n",
    "        pad_len = chunksize - input_id_chunks[i].shape[0]\n",
    "        # check if tensor length satisfies required chunk size\n",
    "        if pad_len > 0:\n",
    "            # if padding length is more than 0, we must add padding\n",
    "            input_id_chunks[i] = torch.cat([\n",
    "                input_id_chunks[i], torch.Tensor([0] * pad_len)\n",
    "            ])\n",
    "            mask_chunks[i] = torch.cat([\n",
    "                mask_chunks[i], torch.Tensor([0] * pad_len)\n",
    "            ])\n",
    "    input_ids = torch.stack(input_id_chunks)\n",
    "    attention_mask = torch.stack(mask_chunks)\n",
    "\n",
    "    input_dict = {\n",
    "        'input_ids': input_ids.long(),\n",
    "        'attention_mask': attention_mask.int()\n",
    "    }\n",
    "    return input_dict\n",
    "\n",
    "\n",
    "## helper function to predict the setiment for the given text\n",
    "def predict_sentiment(text, model, tokenizer):\n",
    "    input_dict = process_long_text(text, tokenizer)\n",
    "    outputs = model(**input_dict)\n",
    "    probs = torch.nn.functional.softmax(outputs[0], dim=-1)\n",
    "    probs = probs.mean(dim=0)\n",
    "    probs = probs.detach().numpy()\n",
    "    return probs"
   ]
  },
  {
   "attachments": {},
   "cell_type": "markdown",
   "metadata": {},
   "source": [
    "## Performing Sentiment Analysis"
   ]
  },
  {
   "attachments": {},
   "cell_type": "markdown",
   "metadata": {},
   "source": [
    "### Initialize Model & Tokenizer"
   ]
  },
  {
   "cell_type": "code",
   "execution_count": 43,
   "metadata": {},
   "outputs": [
    {
     "name": "stderr",
     "output_type": "stream",
     "text": [
      "Some weights of the model checkpoint at cardiffnlp/twitter-roberta-base-sentiment-latest were not used when initializing RobertaForSequenceClassification: ['roberta.pooler.dense.bias', 'roberta.pooler.dense.weight']\n",
      "- This IS expected if you are initializing RobertaForSequenceClassification from the checkpoint of a model trained on another task or with another architecture (e.g. initializing a BertForSequenceClassification model from a BertForPreTraining model).\n",
      "- This IS NOT expected if you are initializing RobertaForSequenceClassification from the checkpoint of a model that you expect to be exactly identical (initializing a BertForSequenceClassification model from a BertForSequenceClassification model).\n"
     ]
    }
   ],
   "source": [
    "## pulling a specific model pretrained on sentiment analysis\n",
    "task='sentiment'\n",
    "MODEL = f\"cardiffnlp/twitter-roberta-base-sentiment-latest\"\n",
    "# MODEL = \"siebert/sentiment-roberta-large-english\"\n",
    "\n",
    "tokenizer = AutoTokenizer.from_pretrained(MODEL)\n",
    "model = AutoModelForSequenceClassification.from_pretrained(MODEL)"
   ]
  },
  {
   "attachments": {},
   "cell_type": "markdown",
   "metadata": {},
   "source": [
    "### Reading Data "
   ]
  },
  {
   "cell_type": "code",
   "execution_count": 26,
   "metadata": {},
   "outputs": [
    {
     "data": {
      "text/html": [
       "<div>\n",
       "<style scoped>\n",
       "    .dataframe tbody tr th:only-of-type {\n",
       "        vertical-align: middle;\n",
       "    }\n",
       "\n",
       "    .dataframe tbody tr th {\n",
       "        vertical-align: top;\n",
       "    }\n",
       "\n",
       "    .dataframe thead th {\n",
       "        text-align: right;\n",
       "    }\n",
       "</style>\n",
       "<table border=\"1\" class=\"dataframe\">\n",
       "  <thead>\n",
       "    <tr style=\"text-align: right;\">\n",
       "      <th></th>\n",
       "      <th>url</th>\n",
       "      <th>author</th>\n",
       "      <th>date</th>\n",
       "      <th>title</th>\n",
       "      <th>soft_title</th>\n",
       "      <th>description</th>\n",
       "      <th>text</th>\n",
       "      <th>day</th>\n",
       "      <th>month</th>\n",
       "      <th>year</th>\n",
       "      <th>...</th>\n",
       "      <th>clean_text</th>\n",
       "      <th>topic_number_1</th>\n",
       "      <th>topic_number_2</th>\n",
       "      <th>topic_number_3</th>\n",
       "      <th>topic_probability_1</th>\n",
       "      <th>topic_probability_2</th>\n",
       "      <th>topic_probability_3</th>\n",
       "      <th>topic_words_1</th>\n",
       "      <th>topic_words_2</th>\n",
       "      <th>topic_words_3</th>\n",
       "    </tr>\n",
       "  </thead>\n",
       "  <tbody>\n",
       "    <tr>\n",
       "      <th>0</th>\n",
       "      <td>https://www.foxnews.com/politics/biden-says-xi...</td>\n",
       "      <td>Greg Norman</td>\n",
       "      <td>2022-11-14 00:00:00+00:00</td>\n",
       "      <td>Biden says after Xi meeting he doesn’t believe...</td>\n",
       "      <td>Biden says after Xi meeting he doesn’t believe...</td>\n",
       "      <td>President Biden said following his meeting wit...</td>\n",
       "      <td>President Biden told reporters Monday followin...</td>\n",
       "      <td>14</td>\n",
       "      <td>11</td>\n",
       "      <td>2022</td>\n",
       "      <td>...</td>\n",
       "      <td>president biden told reporters monday followin...</td>\n",
       "      <td>28</td>\n",
       "      <td>5.0</td>\n",
       "      <td>4.0</td>\n",
       "      <td>0.481921</td>\n",
       "      <td>0.302021</td>\n",
       "      <td>0.059743</td>\n",
       "      <td>china,chinese,taiwan,united_state,threat,defen...</td>\n",
       "      <td>biden,president,white_house,administration,joe...</td>\n",
       "      <td>organization,letter,position,school_board,empl...</td>\n",
       "    </tr>\n",
       "    <tr>\n",
       "      <th>1</th>\n",
       "      <td>https://www.foxnews.com/politics/gop-rep-calve...</td>\n",
       "      <td>Sophia Slacik</td>\n",
       "      <td>2022-11-14 00:00:00+00:00</td>\n",
       "      <td>GOP Rep. Calvert wins election in competitive ...</td>\n",
       "      <td>GOP Rep. Calvert wins election in competitive ...</td>\n",
       "      <td>The race for California 41st House district, o...</td>\n",
       "      <td>The Associated Press projects that  Rep. Ken C...</td>\n",
       "      <td>14</td>\n",
       "      <td>11</td>\n",
       "      <td>2022</td>\n",
       "      <td>...</td>\n",
       "      <td>the associated press projects that rep ken cal...</td>\n",
       "      <td>45</td>\n",
       "      <td>43.0</td>\n",
       "      <td>46.0</td>\n",
       "      <td>0.397262</td>\n",
       "      <td>0.201822</td>\n",
       "      <td>0.176006</td>\n",
       "      <td>democrats,republican,republicans,democrat,demo...</td>\n",
       "      <td>flight,town,fire,bar,visitor,hall,beer,trip,ro...</td>\n",
       "      <td>voter,poll,vote,ballot,georgia,republican,voti...</td>\n",
       "    </tr>\n",
       "    <tr>\n",
       "      <th>2</th>\n",
       "      <td>https://www.foxnews.com/politics/pelosi-not-ev...</td>\n",
       "      <td>Haris Alic</td>\n",
       "      <td>2022-11-14 00:00:00+00:00</td>\n",
       "      <td>Pelosi 'not even thinking' about political fut...</td>\n",
       "      <td>Pelosi 'not even thinking' about political fut...</td>\n",
       "      <td>House Speaker Nancy Pelosi’s spokesman said th...</td>\n",
       "      <td>House Speaker Nancy Pelosi’s spokesman forcefu...</td>\n",
       "      <td>14</td>\n",
       "      <td>11</td>\n",
       "      <td>2022</td>\n",
       "      <td>...</td>\n",
       "      <td>house speaker nancy pelosi’s spokesman forcefu...</td>\n",
       "      <td>45</td>\n",
       "      <td>48.0</td>\n",
       "      <td>51.0</td>\n",
       "      <td>0.229805</td>\n",
       "      <td>0.204087</td>\n",
       "      <td>0.188578</td>\n",
       "      <td>democrats,republican,republicans,democrat,demo...</td>\n",
       "      <td>attack,pelosi,violence,depape,speaker,wing,thr...</td>\n",
       "      <td>senate,vote,democrats,congress,legislation,rep...</td>\n",
       "    </tr>\n",
       "    <tr>\n",
       "      <th>3</th>\n",
       "      <td>https://www.foxnews.com/politics/arizona-gover...</td>\n",
       "      <td>Paul Steinhauser</td>\n",
       "      <td>2022-10-25 00:00:00+00:00</td>\n",
       "      <td>Katie Hobbs defeats GOP challenger Kari Lake, ...</td>\n",
       "      <td>Arizona gov election: Katie Hobbs defeats GOP ...</td>\n",
       "      <td>Democratic Secretary of State Katie Hobbs has ...</td>\n",
       "      <td>The Fox News Decision Desk can project that De...</td>\n",
       "      <td>25</td>\n",
       "      <td>10</td>\n",
       "      <td>2022</td>\n",
       "      <td>...</td>\n",
       "      <td>the fox news decision desk can project that de...</td>\n",
       "      <td>49</td>\n",
       "      <td>36.0</td>\n",
       "      <td>27.0</td>\n",
       "      <td>0.552282</td>\n",
       "      <td>0.129222</td>\n",
       "      <td>0.062635</td>\n",
       "      <td>candidate,race,senate,republican,campaign,demo...</td>\n",
       "      <td>trump,president,republican,capitol,donald_trum...</td>\n",
       "      <td>school,education,teacher,theory,district,kid,s...</td>\n",
       "    </tr>\n",
       "    <tr>\n",
       "      <th>4</th>\n",
       "      <td>https://www.foxnews.com/us/idaho-quadruple-hom...</td>\n",
       "      <td>Paul Best</td>\n",
       "      <td>2022-11-14 00:00:00+00:00</td>\n",
       "      <td>'Crime of passion,' 'burglary gone wrong' amon...</td>\n",
       "      <td>Idaho quadruple student homicide: 'Crime of pa...</td>\n",
       "      <td>Idaho police are trying to narrow down a motiv...</td>\n",
       "      <td>Four college students were killed around 3:00 ...</td>\n",
       "      <td>14</td>\n",
       "      <td>11</td>\n",
       "      <td>2022</td>\n",
       "      <td>...</td>\n",
       "      <td>four college students were killed around or in...</td>\n",
       "      <td>53</td>\n",
       "      <td>29.0</td>\n",
       "      <td>3.0</td>\n",
       "      <td>0.326747</td>\n",
       "      <td>0.253755</td>\n",
       "      <td>0.078065</td>\n",
       "      <td>police,officer,victim,suspect,murder,incident,...</td>\n",
       "      <td>crime,los_angele,death,safe,city,resident,viol...</td>\n",
       "      <td>kid,mother,daughter,friend,mom,girl,husband,ba...</td>\n",
       "    </tr>\n",
       "  </tbody>\n",
       "</table>\n",
       "<p>5 rows × 23 columns</p>\n",
       "</div>"
      ],
      "text/plain": [
       "                                                 url            author  \\\n",
       "0  https://www.foxnews.com/politics/biden-says-xi...       Greg Norman   \n",
       "1  https://www.foxnews.com/politics/gop-rep-calve...     Sophia Slacik   \n",
       "2  https://www.foxnews.com/politics/pelosi-not-ev...        Haris Alic   \n",
       "3  https://www.foxnews.com/politics/arizona-gover...  Paul Steinhauser   \n",
       "4  https://www.foxnews.com/us/idaho-quadruple-hom...         Paul Best   \n",
       "\n",
       "                        date  \\\n",
       "0  2022-11-14 00:00:00+00:00   \n",
       "1  2022-11-14 00:00:00+00:00   \n",
       "2  2022-11-14 00:00:00+00:00   \n",
       "3  2022-10-25 00:00:00+00:00   \n",
       "4  2022-11-14 00:00:00+00:00   \n",
       "\n",
       "                                               title  \\\n",
       "0  Biden says after Xi meeting he doesn’t believe...   \n",
       "1  GOP Rep. Calvert wins election in competitive ...   \n",
       "2  Pelosi 'not even thinking' about political fut...   \n",
       "3  Katie Hobbs defeats GOP challenger Kari Lake, ...   \n",
       "4  'Crime of passion,' 'burglary gone wrong' amon...   \n",
       "\n",
       "                                          soft_title  \\\n",
       "0  Biden says after Xi meeting he doesn’t believe...   \n",
       "1  GOP Rep. Calvert wins election in competitive ...   \n",
       "2  Pelosi 'not even thinking' about political fut...   \n",
       "3  Arizona gov election: Katie Hobbs defeats GOP ...   \n",
       "4  Idaho quadruple student homicide: 'Crime of pa...   \n",
       "\n",
       "                                         description  \\\n",
       "0  President Biden said following his meeting wit...   \n",
       "1  The race for California 41st House district, o...   \n",
       "2  House Speaker Nancy Pelosi’s spokesman said th...   \n",
       "3  Democratic Secretary of State Katie Hobbs has ...   \n",
       "4  Idaho police are trying to narrow down a motiv...   \n",
       "\n",
       "                                                text  day  month  year  ...  \\\n",
       "0  President Biden told reporters Monday followin...   14     11  2022  ...   \n",
       "1  The Associated Press projects that  Rep. Ken C...   14     11  2022  ...   \n",
       "2  House Speaker Nancy Pelosi’s spokesman forcefu...   14     11  2022  ...   \n",
       "3  The Fox News Decision Desk can project that De...   25     10  2022  ...   \n",
       "4  Four college students were killed around 3:00 ...   14     11  2022  ...   \n",
       "\n",
       "                                          clean_text  topic_number_1  \\\n",
       "0  president biden told reporters monday followin...              28   \n",
       "1  the associated press projects that rep ken cal...              45   \n",
       "2  house speaker nancy pelosi’s spokesman forcefu...              45   \n",
       "3  the fox news decision desk can project that de...              49   \n",
       "4  four college students were killed around or in...              53   \n",
       "\n",
       "   topic_number_2 topic_number_3  topic_probability_1  topic_probability_2  \\\n",
       "0             5.0            4.0             0.481921             0.302021   \n",
       "1            43.0           46.0             0.397262             0.201822   \n",
       "2            48.0           51.0             0.229805             0.204087   \n",
       "3            36.0           27.0             0.552282             0.129222   \n",
       "4            29.0            3.0             0.326747             0.253755   \n",
       "\n",
       "   topic_probability_3                                      topic_words_1  \\\n",
       "0             0.059743  china,chinese,taiwan,united_state,threat,defen...   \n",
       "1             0.176006  democrats,republican,republicans,democrat,demo...   \n",
       "2             0.188578  democrats,republican,republicans,democrat,demo...   \n",
       "3             0.062635  candidate,race,senate,republican,campaign,demo...   \n",
       "4             0.078065  police,officer,victim,suspect,murder,incident,...   \n",
       "\n",
       "                                       topic_words_2  \\\n",
       "0  biden,president,white_house,administration,joe...   \n",
       "1  flight,town,fire,bar,visitor,hall,beer,trip,ro...   \n",
       "2  attack,pelosi,violence,depape,speaker,wing,thr...   \n",
       "3  trump,president,republican,capitol,donald_trum...   \n",
       "4  crime,los_angele,death,safe,city,resident,viol...   \n",
       "\n",
       "                                       topic_words_3  \n",
       "0  organization,letter,position,school_board,empl...  \n",
       "1  voter,poll,vote,ballot,georgia,republican,voti...  \n",
       "2  senate,vote,democrats,congress,legislation,rep...  \n",
       "3  school,education,teacher,theory,district,kid,s...  \n",
       "4  kid,mother,daughter,friend,mom,girl,husband,ba...  \n",
       "\n",
       "[5 rows x 23 columns]"
      ]
     },
     "execution_count": 26,
     "metadata": {},
     "output_type": "execute_result"
    }
   ],
   "source": [
    "data = pd.read_csv(\"../data/apify_text_topics_v2.csv\")\n",
    "data.head()"
   ]
  },
  {
   "attachments": {},
   "cell_type": "markdown",
   "metadata": {},
   "source": [
    "### Sample Testing"
   ]
  },
  {
   "cell_type": "code",
   "execution_count": 37,
   "metadata": {},
   "outputs": [],
   "source": [
    "sample_row = data.sample(1)\n",
    "sample_text = sample_row['text'].values[0]\n",
    "sample_clean_text = sample_row['clean_text'].values[0]"
   ]
  },
  {
   "cell_type": "code",
   "execution_count": 38,
   "metadata": {},
   "outputs": [
    {
     "data": {
      "text/plain": [
       "'the city of el paso has launched a new migrant data dashboard that gives a glimpse into the extraordinary numbers the border city is seeing as part of the ongoing migrant crisis racking the southwest borderthe migrant situational awareness dashboard available on the city’s website offers a breakdown of the massive numbers being encountered and released into the communityaccording to the data the numbers went from less than releases per week into the community during the summer to over last week the number of migrants in custody has also jumped from fewer than a few weeks ago to over the data show that there are over being released into the community each day on average while the city is providing over meals a day to hungry migrantsfor months el paso has been sounding the alarm about the migrant surge it is facing images have shown migrants including many from venezuela camped out on the streets as shelters and facilities have been overwhelmedmeanwhile the city which has a democratic mayor has been busing migrants to new york city and chicago although it has avoided the criticism that has been leveled at republican gov greg abbott for doing the samemayor oscar leeser has stressed that the city is still taking care of migrants in its care we put human beings on buses with food and make sure they get to their destination and make sure that we always continue to treat people like human beings he saidhe also told news that one difference with the migrants arriving in el paso is that many of those from venezuela do not have sponsors in the who can help them and have no moneywe have about percent of the people today that do not have a sponsor they do not have money so we’re helping and working to get them to where they want to go the mayor saidaccording to the dashboard it has bused nearly migrants to the two selfdescribed sanctuary cities it has sent to chicago and to the big apple so far this yearel paso is one of a number of border towns and cities that have been overwhelmed by the crisis the border has seen over migrant encounters per month and more than million this fiscal year this week the biden administration which has faced enormous political pressure over the nearly twoyear crisis announced a combined border operation with mexico that operation involves increased checkpoints and more resources to handle the migrant surgeit will also see venezuelan nationals returned to mexico under the title public health order venezuelans had not been returned under the order until this weeksimultaneously the biden administration announced a humanitarian parole program that would allow up to venezuelans to fly to the if they had a sponsor and fulfilled other conditions'"
      ]
     },
     "execution_count": 38,
     "metadata": {},
     "output_type": "execute_result"
    }
   ],
   "source": [
    "sample_clean_text"
   ]
  },
  {
   "cell_type": "code",
   "execution_count": 39,
   "metadata": {},
   "outputs": [
    {
     "data": {
      "text/plain": [
       "'The city of El Paso has launched a new migrant data dashboard that gives a glimpse into the extraordinary numbers the border city is seeing as part of the ongoing migrant crisis racking the southwest border.\\n\\nThe Migrant Situational Awareness Dashboard, available on the city’s website, offers a breakdown of the massive numbers being encountered and released into the community.\\n\\nAccording to the data, the numbers went from less than 1,700 releases per week into the community during the summer to over 6,800 last week. The number of migrants in  custody has also jumped from fewer than 3,000 a few weeks ago to over 4,500.\\n\\nThe data show that there are over 1,000 being released into the community each day on average, while the city is providing over 900 meals a day to hungry migrants.\\n\\nFor months, El Paso has been sounding the alarm about the migrant surge it is facing. Images have shown migrants, including many from Venezuela, camped out on the streets as shelters and facilities have been overwhelmed.\\n\\nMeanwhile, the city, which has a Democratic mayor, has been busing migrants to New York City and Chicago, although it has avoided the criticism that has been leveled at Republican Gov. Greg Abbott for doing the same.\\n\\nMayor Oscar Leeser has stressed that the city is still taking care of migrants in its care: \"We put human beings on buses with food and make sure they get to their destination and make sure that we always continue to treat people like human beings,\" he said.\\n\\nHe also told  News that one difference with the migrants arriving in El Paso is that many of those from Venezuela do not have sponsors in the . . who can help them, and have no money.\\n\\n\"We have about 50 percent of the people today that do not have a sponsor, they do not have money, so we’re helping and working to get them to where they want to go,\" the mayor said.\\n\\nAccording to the dashboard, it has bused nearly 13,000 migrants to the two self-described \"sanctuary\" cities. It has sent 2,925 to Chicago and 9,855 to the Big Apple so far this year.\\n\\nEl Paso is one of a number of border towns and cities that have been overwhelmed by the crisis. The border has seen over 200,000 migrant encounters per month, and more than 2.1 million this fiscal year.\\n\\n       \\n\\nThis week, the Biden administration, which has faced enormous political pressure over the nearly two-year crisis, announced a combined border operation with Mexico. That operation involves increased checkpoints and more resources to handle the migrant surge.\\n\\nIt will also see Venezuelan nationals returned to Mexico under the Title 42 public health order. Venezuelans had not been returned under the order until this week.\\n\\nSimultaneously, the Biden administration announced a humanitarian parole program that would allow up to 24,000 Venezuelans to fly to the . . if they had a sponsor and fulfilled other conditions.'"
      ]
     },
     "execution_count": 39,
     "metadata": {},
     "output_type": "execute_result"
    }
   ],
   "source": [
    "sample_text"
   ]
  },
  {
   "cell_type": "code",
   "execution_count": 30,
   "metadata": {},
   "outputs": [],
   "source": [
    "import re\n",
    "## lets remove the all caps place holder text\n",
    "clean_text = re.sub(r'\\b[A-Z]+\\b', '', sample_text)"
   ]
  },
  {
   "cell_type": "code",
   "execution_count": 44,
   "metadata": {},
   "outputs": [
    {
     "name": "stdout",
     "output_type": "stream",
     "text": [
      "SequenceClassifierOutput(loss=None, logits=tensor([[-0.7919,  1.6844, -1.0441],\n",
      "        [-1.1643,  1.6180, -0.6690]], grad_fn=<AddmmBackward0>), hidden_states=None, attentions=None)\n"
     ]
    },
    {
     "data": {
      "text/plain": [
       "array([0.06316391, 0.86477184, 0.07206428], dtype=float32)"
      ]
     },
     "execution_count": 44,
     "metadata": {},
     "output_type": "execute_result"
    }
   ],
   "source": [
    "sentiments = predict_sentiment(sample_text, model, tokenizer)\n",
    "sentiments"
   ]
  },
  {
   "cell_type": "code",
   "execution_count": 45,
   "metadata": {},
   "outputs": [
    {
     "name": "stdout",
     "output_type": "stream",
     "text": [
      "SequenceClassifierOutput(loss=None, logits=tensor([[-1.1675,  1.6963, -0.7131],\n",
      "        [-2.3141,  1.4862,  0.6135]], grad_fn=<AddmmBackward0>), hidden_states=None, attentions=None)\n"
     ]
    },
    {
     "data": {
      "text/plain": [
       "array([0.03263433, 0.78313947, 0.18422621], dtype=float32)"
      ]
     },
     "execution_count": 45,
     "metadata": {},
     "output_type": "execute_result"
    }
   ],
   "source": [
    "sentiments = predict_sentiment(sample_clean_text, model, tokenizer)\n",
    "sentiments"
   ]
  },
  {
   "attachments": {},
   "cell_type": "markdown",
   "metadata": {},
   "source": [
    "###### Notes\n",
    "* So it seems removing placeholder caps lock does have an effect on sentiment analysis."
   ]
  },
  {
   "cell_type": "code",
   "execution_count": null,
   "metadata": {},
   "outputs": [],
   "source": []
  }
 ],
 "metadata": {
  "kernelspec": {
   "display_name": "env",
   "language": "python",
   "name": "python3"
  },
  "language_info": {
   "codemirror_mode": {
    "name": "ipython",
    "version": 3
   },
   "file_extension": ".py",
   "mimetype": "text/x-python",
   "name": "python",
   "nbconvert_exporter": "python",
   "pygments_lexer": "ipython3",
   "version": "3.10.9"
  },
  "orig_nbformat": 4,
  "vscode": {
   "interpreter": {
    "hash": "914eef65da1375b54976b1eb4c0a6192cf68c9b736369c9231d1c03e2f3fef86"
   }
  }
 },
 "nbformat": 4,
 "nbformat_minor": 2
}
