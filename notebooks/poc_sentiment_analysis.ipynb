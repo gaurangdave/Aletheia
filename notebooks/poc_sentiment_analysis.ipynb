{
 "cells": [
  {
   "cell_type": "markdown",
   "metadata": {},
   "source": [
    "# Sentiment Analysis POC"
   ]
  },
  {
   "cell_type": "markdown",
   "metadata": {},
   "source": [
    "* This notebook is a scratch pad, for sentiment analysis POC. \n",
    "* The idea is to try out few pre-trained sentiment analysis models and see which one works for our use case. "
   ]
  },
  {
   "cell_type": "markdown",
   "metadata": {},
   "source": [
    "## Installations"
   ]
  },
  {
   "cell_type": "code",
   "execution_count": 1,
   "metadata": {},
   "outputs": [
    {
     "name": "stdout",
     "output_type": "stream",
     "text": [
      "Requirement already satisfied: beautifulsoup4 in d:\\workspace\\aletheia\\env\\lib\\site-packages (4.11.1)\n",
      "Requirement already satisfied: soupsieve>1.2 in d:\\workspace\\aletheia\\env\\lib\\site-packages (from beautifulsoup4) (2.3.2.post1)\n"
     ]
    },
    {
     "name": "stderr",
     "output_type": "stream",
     "text": [
      "\n",
      "[notice] A new release of pip available: 22.2.2 -> 22.3.1\n",
      "[notice] To update, run: python.exe -m pip install --upgrade pip\n"
     ]
    },
    {
     "name": "stdout",
     "output_type": "stream",
     "text": [
      "Requirement already satisfied: pandas in d:\\workspace\\aletheia\\env\\lib\\site-packages (1.5.2)\n",
      "Requirement already satisfied: pytz>=2020.1 in d:\\workspace\\aletheia\\env\\lib\\site-packages (from pandas) (2022.6)\n",
      "Requirement already satisfied: numpy>=1.21.0 in d:\\workspace\\aletheia\\env\\lib\\site-packages (from pandas) (1.23.5)\n",
      "Requirement already satisfied: python-dateutil>=2.8.1 in d:\\workspace\\aletheia\\env\\lib\\site-packages (from pandas) (2.8.2)\n",
      "Requirement already satisfied: six>=1.5 in d:\\workspace\\aletheia\\env\\lib\\site-packages (from python-dateutil>=2.8.1->pandas) (1.16.0)\n"
     ]
    },
    {
     "name": "stderr",
     "output_type": "stream",
     "text": [
      "\n",
      "[notice] A new release of pip available: 22.2.2 -> 22.3.1\n",
      "[notice] To update, run: python.exe -m pip install --upgrade pip\n"
     ]
    },
    {
     "name": "stdout",
     "output_type": "stream",
     "text": [
      "Requirement already satisfied: numpy in d:\\workspace\\aletheia\\env\\lib\\site-packages (1.23.5)\n"
     ]
    },
    {
     "name": "stderr",
     "output_type": "stream",
     "text": [
      "\n",
      "[notice] A new release of pip available: 22.2.2 -> 22.3.1\n",
      "[notice] To update, run: python.exe -m pip install --upgrade pip\n"
     ]
    },
    {
     "name": "stdout",
     "output_type": "stream",
     "text": [
      "Requirement already satisfied: plotly in d:\\workspace\\aletheia\\env\\lib\\site-packages (5.11.0)\n",
      "Requirement already satisfied: tenacity>=6.2.0 in d:\\workspace\\aletheia\\env\\lib\\site-packages (from plotly) (8.1.0)\n"
     ]
    },
    {
     "name": "stderr",
     "output_type": "stream",
     "text": [
      "\n",
      "[notice] A new release of pip available: 22.2.2 -> 22.3.1\n",
      "[notice] To update, run: python.exe -m pip install --upgrade pip\n"
     ]
    },
    {
     "name": "stdout",
     "output_type": "stream",
     "text": [
      "Requirement already satisfied: nbformat in d:\\workspace\\aletheia\\env\\lib\\site-packages (5.7.0)\n",
      "Requirement already satisfied: jsonschema>=2.6 in d:\\workspace\\aletheia\\env\\lib\\site-packages (from nbformat) (4.17.1)\n",
      "Requirement already satisfied: traitlets>=5.1 in d:\\workspace\\aletheia\\env\\lib\\site-packages (from nbformat) (5.5.0)\n",
      "Requirement already satisfied: jupyter-core in d:\\workspace\\aletheia\\env\\lib\\site-packages (from nbformat) (5.0.0)\n",
      "Requirement already satisfied: fastjsonschema in d:\\workspace\\aletheia\\env\\lib\\site-packages (from nbformat) (2.16.2)\n",
      "Requirement already satisfied: pyrsistent!=0.17.0,!=0.17.1,!=0.17.2,>=0.14.0 in d:\\workspace\\aletheia\\env\\lib\\site-packages (from jsonschema>=2.6->nbformat) (0.19.2)\n",
      "Requirement already satisfied: attrs>=17.4.0 in d:\\workspace\\aletheia\\env\\lib\\site-packages (from jsonschema>=2.6->nbformat) (22.1.0)\n",
      "Requirement already satisfied: pywin32>=1.0 in d:\\workspace\\aletheia\\env\\lib\\site-packages (from jupyter-core->nbformat) (305)\n",
      "Requirement already satisfied: platformdirs in d:\\workspace\\aletheia\\env\\lib\\site-packages (from jupyter-core->nbformat) (2.5.4)\n"
     ]
    },
    {
     "name": "stderr",
     "output_type": "stream",
     "text": [
      "\n",
      "[notice] A new release of pip available: 22.2.2 -> 22.3.1\n",
      "[notice] To update, run: python.exe -m pip install --upgrade pip\n"
     ]
    },
    {
     "name": "stdout",
     "output_type": "stream",
     "text": [
      "Requirement already satisfied: ipykernel in d:\\workspace\\aletheia\\env\\lib\\site-packages (6.17.1)\n",
      "Requirement already satisfied: nest-asyncio in d:\\workspace\\aletheia\\env\\lib\\site-packages (from ipykernel) (1.5.6)\n",
      "Requirement already satisfied: tornado>=6.1 in d:\\workspace\\aletheia\\env\\lib\\site-packages (from ipykernel) (6.2)\n",
      "Requirement already satisfied: psutil in d:\\workspace\\aletheia\\env\\lib\\site-packages (from ipykernel) (5.9.4)\n",
      "Requirement already satisfied: matplotlib-inline>=0.1 in d:\\workspace\\aletheia\\env\\lib\\site-packages (from ipykernel) (0.1.6)\n",
      "Requirement already satisfied: pyzmq>=17 in d:\\workspace\\aletheia\\env\\lib\\site-packages (from ipykernel) (24.0.1)\n",
      "Requirement already satisfied: debugpy>=1.0 in d:\\workspace\\aletheia\\env\\lib\\site-packages (from ipykernel) (1.6.3)\n",
      "Requirement already satisfied: jupyter-client>=6.1.12 in d:\\workspace\\aletheia\\env\\lib\\site-packages (from ipykernel) (7.4.7)\n",
      "Requirement already satisfied: ipython>=7.23.1 in d:\\workspace\\aletheia\\env\\lib\\site-packages (from ipykernel) (8.6.0)\n",
      "Requirement already satisfied: packaging in d:\\workspace\\aletheia\\env\\lib\\site-packages (from ipykernel) (21.3)\n",
      "Requirement already satisfied: traitlets>=5.1.0 in d:\\workspace\\aletheia\\env\\lib\\site-packages (from ipykernel) (5.5.0)\n",
      "Requirement already satisfied: pickleshare in d:\\workspace\\aletheia\\env\\lib\\site-packages (from ipython>=7.23.1->ipykernel) (0.7.5)\n",
      "Requirement already satisfied: prompt-toolkit<3.1.0,>3.0.1 in d:\\workspace\\aletheia\\env\\lib\\site-packages (from ipython>=7.23.1->ipykernel) (3.0.33)\n",
      "Requirement already satisfied: pygments>=2.4.0 in d:\\workspace\\aletheia\\env\\lib\\site-packages (from ipython>=7.23.1->ipykernel) (2.13.0)\n",
      "Requirement already satisfied: decorator in d:\\workspace\\aletheia\\env\\lib\\site-packages (from ipython>=7.23.1->ipykernel) (5.1.1)\n",
      "Requirement already satisfied: colorama in d:\\workspace\\aletheia\\env\\lib\\site-packages (from ipython>=7.23.1->ipykernel) (0.4.6)\n",
      "Requirement already satisfied: jedi>=0.16 in d:\\workspace\\aletheia\\env\\lib\\site-packages (from ipython>=7.23.1->ipykernel) (0.18.2)\n",
      "Requirement already satisfied: stack-data in d:\\workspace\\aletheia\\env\\lib\\site-packages (from ipython>=7.23.1->ipykernel) (0.6.1)\n",
      "Requirement already satisfied: backcall in d:\\workspace\\aletheia\\env\\lib\\site-packages (from ipython>=7.23.1->ipykernel) (0.2.0)\n",
      "Requirement already satisfied: python-dateutil>=2.8.2 in d:\\workspace\\aletheia\\env\\lib\\site-packages (from jupyter-client>=6.1.12->ipykernel) (2.8.2)\n",
      "Requirement already satisfied: jupyter-core>=4.9.2 in d:\\workspace\\aletheia\\env\\lib\\site-packages (from jupyter-client>=6.1.12->ipykernel) (5.0.0)\n",
      "Requirement already satisfied: entrypoints in d:\\workspace\\aletheia\\env\\lib\\site-packages (from jupyter-client>=6.1.12->ipykernel) (0.4)\n",
      "Requirement already satisfied: pyparsing!=3.0.5,>=2.0.2 in d:\\workspace\\aletheia\\env\\lib\\site-packages (from packaging->ipykernel) (3.0.9)\n",
      "Requirement already satisfied: parso<0.9.0,>=0.8.0 in d:\\workspace\\aletheia\\env\\lib\\site-packages (from jedi>=0.16->ipython>=7.23.1->ipykernel) (0.8.3)\n",
      "Requirement already satisfied: platformdirs in d:\\workspace\\aletheia\\env\\lib\\site-packages (from jupyter-core>=4.9.2->jupyter-client>=6.1.12->ipykernel) (2.5.4)\n",
      "Requirement already satisfied: pywin32>=1.0 in d:\\workspace\\aletheia\\env\\lib\\site-packages (from jupyter-core>=4.9.2->jupyter-client>=6.1.12->ipykernel) (305)\n",
      "Requirement already satisfied: wcwidth in d:\\workspace\\aletheia\\env\\lib\\site-packages (from prompt-toolkit<3.1.0,>3.0.1->ipython>=7.23.1->ipykernel) (0.2.5)\n",
      "Requirement already satisfied: six>=1.5 in d:\\workspace\\aletheia\\env\\lib\\site-packages (from python-dateutil>=2.8.2->jupyter-client>=6.1.12->ipykernel) (1.16.0)\n",
      "Requirement already satisfied: pure-eval in d:\\workspace\\aletheia\\env\\lib\\site-packages (from stack-data->ipython>=7.23.1->ipykernel) (0.2.2)\n",
      "Requirement already satisfied: executing>=1.2.0 in d:\\workspace\\aletheia\\env\\lib\\site-packages (from stack-data->ipython>=7.23.1->ipykernel) (1.2.0)\n",
      "Requirement already satisfied: asttokens>=2.1.0 in d:\\workspace\\aletheia\\env\\lib\\site-packages (from stack-data->ipython>=7.23.1->ipykernel) (2.1.0)\n"
     ]
    },
    {
     "name": "stderr",
     "output_type": "stream",
     "text": [
      "\n",
      "[notice] A new release of pip available: 22.2.2 -> 22.3.1\n",
      "[notice] To update, run: python.exe -m pip install --upgrade pip\n"
     ]
    },
    {
     "name": "stdout",
     "output_type": "stream",
     "text": [
      "Requirement already satisfied: matplotlip in d:\\workspace\\aletheia\\env\\lib\\site-packages (0.2)\n"
     ]
    },
    {
     "name": "stderr",
     "output_type": "stream",
     "text": [
      "\n",
      "[notice] A new release of pip available: 22.2.2 -> 22.3.1\n",
      "[notice] To update, run: python.exe -m pip install --upgrade pip\n"
     ]
    },
    {
     "name": "stdout",
     "output_type": "stream",
     "text": [
      "Requirement already satisfied: wordcloud in d:\\workspace\\aletheia\\env\\lib\\site-packages (1.8.2.2)\n",
      "Requirement already satisfied: matplotlib in d:\\workspace\\aletheia\\env\\lib\\site-packages (from wordcloud) (3.6.2)\n",
      "Requirement already satisfied: numpy>=1.6.1 in d:\\workspace\\aletheia\\env\\lib\\site-packages (from wordcloud) (1.23.5)\n",
      "Requirement already satisfied: pillow in d:\\workspace\\aletheia\\env\\lib\\site-packages (from wordcloud) (9.3.0)\n",
      "Requirement already satisfied: packaging>=20.0 in d:\\workspace\\aletheia\\env\\lib\\site-packages (from matplotlib->wordcloud) (21.3)\n",
      "Requirement already satisfied: contourpy>=1.0.1 in d:\\workspace\\aletheia\\env\\lib\\site-packages (from matplotlib->wordcloud) (1.0.6)\n",
      "Requirement already satisfied: kiwisolver>=1.0.1 in d:\\workspace\\aletheia\\env\\lib\\site-packages (from matplotlib->wordcloud) (1.4.4)\n",
      "Requirement already satisfied: pyparsing>=2.2.1 in d:\\workspace\\aletheia\\env\\lib\\site-packages (from matplotlib->wordcloud) (3.0.9)\n",
      "Requirement already satisfied: cycler>=0.10 in d:\\workspace\\aletheia\\env\\lib\\site-packages (from matplotlib->wordcloud) (0.11.0)\n",
      "Requirement already satisfied: fonttools>=4.22.0 in d:\\workspace\\aletheia\\env\\lib\\site-packages (from matplotlib->wordcloud) (4.38.0)\n",
      "Requirement already satisfied: python-dateutil>=2.7 in d:\\workspace\\aletheia\\env\\lib\\site-packages (from matplotlib->wordcloud) (2.8.2)\n",
      "Requirement already satisfied: six>=1.5 in d:\\workspace\\aletheia\\env\\lib\\site-packages (from python-dateutil>=2.7->matplotlib->wordcloud) (1.16.0)\n"
     ]
    },
    {
     "name": "stderr",
     "output_type": "stream",
     "text": [
      "\n",
      "[notice] A new release of pip available: 22.2.2 -> 22.3.1\n",
      "[notice] To update, run: python.exe -m pip install --upgrade pip\n"
     ]
    },
    {
     "name": "stdout",
     "output_type": "stream",
     "text": [
      "Requirement already satisfied: gensim in d:\\workspace\\aletheia\\env\\lib\\site-packages (4.2.0)\n",
      "Requirement already satisfied: smart-open>=1.8.1 in d:\\workspace\\aletheia\\env\\lib\\site-packages (from gensim) (5.2.1)\n",
      "Requirement already satisfied: scipy>=0.18.1 in d:\\workspace\\aletheia\\env\\lib\\site-packages (from gensim) (1.9.3)\n",
      "Requirement already satisfied: Cython==0.29.28 in d:\\workspace\\aletheia\\env\\lib\\site-packages (from gensim) (0.29.28)\n",
      "Requirement already satisfied: numpy>=1.17.0 in d:\\workspace\\aletheia\\env\\lib\\site-packages (from gensim) (1.23.5)\n"
     ]
    },
    {
     "name": "stderr",
     "output_type": "stream",
     "text": [
      "\n",
      "[notice] A new release of pip available: 22.2.2 -> 22.3.1\n",
      "[notice] To update, run: python.exe -m pip install --upgrade pip\n"
     ]
    },
    {
     "name": "stdout",
     "output_type": "stream",
     "text": [
      "Requirement already satisfied: pyLDAvis in d:\\workspace\\aletheia\\env\\lib\\site-packages (3.3.1)\n",
      "Requirement already satisfied: jinja2 in d:\\workspace\\aletheia\\env\\lib\\site-packages (from pyLDAvis) (3.1.2)\n",
      "Requirement already satisfied: scipy in d:\\workspace\\aletheia\\env\\lib\\site-packages (from pyLDAvis) (1.9.3)\n",
      "Requirement already satisfied: numexpr in d:\\workspace\\aletheia\\env\\lib\\site-packages (from pyLDAvis) (2.8.4)\n",
      "Requirement already satisfied: gensim in d:\\workspace\\aletheia\\env\\lib\\site-packages (from pyLDAvis) (4.2.0)\n",
      "Requirement already satisfied: setuptools in d:\\workspace\\aletheia\\env\\lib\\site-packages (from pyLDAvis) (63.2.0)\n",
      "Requirement already satisfied: pandas>=1.2.0 in d:\\workspace\\aletheia\\env\\lib\\site-packages (from pyLDAvis) (1.5.2)\n",
      "Requirement already satisfied: sklearn in d:\\workspace\\aletheia\\env\\lib\\site-packages (from pyLDAvis) (0.0.post1)\n",
      "Requirement already satisfied: funcy in d:\\workspace\\aletheia\\env\\lib\\site-packages (from pyLDAvis) (1.17)\n",
      "Requirement already satisfied: scikit-learn in d:\\workspace\\aletheia\\env\\lib\\site-packages (from pyLDAvis) (1.1.3)\n",
      "Requirement already satisfied: future in d:\\workspace\\aletheia\\env\\lib\\site-packages (from pyLDAvis) (0.18.2)\n",
      "Requirement already satisfied: numpy>=1.20.0 in d:\\workspace\\aletheia\\env\\lib\\site-packages (from pyLDAvis) (1.23.5)\n",
      "Requirement already satisfied: joblib in d:\\workspace\\aletheia\\env\\lib\\site-packages (from pyLDAvis) (1.2.0)\n",
      "Requirement already satisfied: pytz>=2020.1 in d:\\workspace\\aletheia\\env\\lib\\site-packages (from pandas>=1.2.0->pyLDAvis) (2022.6)\n",
      "Requirement already satisfied: python-dateutil>=2.8.1 in d:\\workspace\\aletheia\\env\\lib\\site-packages (from pandas>=1.2.0->pyLDAvis) (2.8.2)\n",
      "Requirement already satisfied: Cython==0.29.28 in d:\\workspace\\aletheia\\env\\lib\\site-packages (from gensim->pyLDAvis) (0.29.28)\n",
      "Requirement already satisfied: smart-open>=1.8.1 in d:\\workspace\\aletheia\\env\\lib\\site-packages (from gensim->pyLDAvis) (5.2.1)\n",
      "Requirement already satisfied: MarkupSafe>=2.0 in d:\\workspace\\aletheia\\env\\lib\\site-packages (from jinja2->pyLDAvis) (2.1.1)\n",
      "Requirement already satisfied: threadpoolctl>=2.0.0 in d:\\workspace\\aletheia\\env\\lib\\site-packages (from scikit-learn->pyLDAvis) (3.1.0)\n",
      "Requirement already satisfied: six>=1.5 in d:\\workspace\\aletheia\\env\\lib\\site-packages (from python-dateutil>=2.8.1->pandas>=1.2.0->pyLDAvis) (1.16.0)\n"
     ]
    },
    {
     "name": "stderr",
     "output_type": "stream",
     "text": [
      "\n",
      "[notice] A new release of pip available: 22.2.2 -> 22.3.1\n",
      "[notice] To update, run: python.exe -m pip install --upgrade pip\n"
     ]
    },
    {
     "name": "stdout",
     "output_type": "stream",
     "text": [
      "Requirement already satisfied: nltk in d:\\workspace\\aletheia\\env\\lib\\site-packages (3.7)\n",
      "Requirement already satisfied: tqdm in d:\\workspace\\aletheia\\env\\lib\\site-packages (from nltk) (4.64.1)\n",
      "Requirement already satisfied: joblib in d:\\workspace\\aletheia\\env\\lib\\site-packages (from nltk) (1.2.0)\n",
      "Requirement already satisfied: click in d:\\workspace\\aletheia\\env\\lib\\site-packages (from nltk) (8.1.3)\n",
      "Requirement already satisfied: regex>=2021.8.3 in d:\\workspace\\aletheia\\env\\lib\\site-packages (from nltk) (2022.10.31)\n",
      "Requirement already satisfied: colorama in d:\\workspace\\aletheia\\env\\lib\\site-packages (from click->nltk) (0.4.6)\n"
     ]
    },
    {
     "name": "stderr",
     "output_type": "stream",
     "text": [
      "\n",
      "[notice] A new release of pip available: 22.2.2 -> 22.3.1\n",
      "[notice] To update, run: python.exe -m pip install --upgrade pip\n"
     ]
    },
    {
     "name": "stdout",
     "output_type": "stream",
     "text": [
      "Requirement already satisfied: pip in d:\\workspace\\aletheia\\env\\lib\\site-packages (22.2.2)\n",
      "Collecting pip\n",
      "  Using cached pip-22.3.1-py3-none-any.whl (2.1 MB)\n",
      "Requirement already satisfied: setuptools in d:\\workspace\\aletheia\\env\\lib\\site-packages (63.2.0)\n",
      "Collecting setuptools\n",
      "  Using cached setuptools-65.6.3-py3-none-any.whl (1.2 MB)\n",
      "Collecting wheel\n",
      "  Using cached wheel-0.38.4-py3-none-any.whl (36 kB)\n"
     ]
    },
    {
     "name": "stderr",
     "output_type": "stream",
     "text": [
      "ERROR: To modify pip, please run the following command:\n",
      "D:\\workspace\\Aletheia\\env\\Scripts\\python.exe -m pip install -U pip setuptools wheel\n",
      "\n",
      "[notice] A new release of pip available: 22.2.2 -> 22.3.1\n",
      "[notice] To update, run: python.exe -m pip install --upgrade pip\n"
     ]
    },
    {
     "name": "stdout",
     "output_type": "stream",
     "text": [
      "Requirement already satisfied: spacy in d:\\workspace\\aletheia\\env\\lib\\site-packages (3.4.3)\n",
      "Requirement already satisfied: setuptools in d:\\workspace\\aletheia\\env\\lib\\site-packages (from spacy) (63.2.0)\n",
      "Requirement already satisfied: spacy-legacy<3.1.0,>=3.0.10 in d:\\workspace\\aletheia\\env\\lib\\site-packages (from spacy) (3.0.10)\n",
      "Requirement already satisfied: requests<3.0.0,>=2.13.0 in d:\\workspace\\aletheia\\env\\lib\\site-packages (from spacy) (2.28.1)\n",
      "Requirement already satisfied: wasabi<1.1.0,>=0.9.1 in d:\\workspace\\aletheia\\env\\lib\\site-packages (from spacy) (0.10.1)\n",
      "Requirement already satisfied: pathy>=0.3.5 in d:\\workspace\\aletheia\\env\\lib\\site-packages (from spacy) (0.10.0)\n",
      "Requirement already satisfied: spacy-loggers<2.0.0,>=1.0.0 in d:\\workspace\\aletheia\\env\\lib\\site-packages (from spacy) (1.0.3)\n",
      "Requirement already satisfied: typer<0.8.0,>=0.3.0 in d:\\workspace\\aletheia\\env\\lib\\site-packages (from spacy) (0.7.0)\n",
      "Requirement already satisfied: jinja2 in d:\\workspace\\aletheia\\env\\lib\\site-packages (from spacy) (3.1.2)\n",
      "Requirement already satisfied: murmurhash<1.1.0,>=0.28.0 in d:\\workspace\\aletheia\\env\\lib\\site-packages (from spacy) (1.0.9)\n",
      "Requirement already satisfied: numpy>=1.15.0 in d:\\workspace\\aletheia\\env\\lib\\site-packages (from spacy) (1.23.5)\n",
      "Requirement already satisfied: srsly<3.0.0,>=2.4.3 in d:\\workspace\\aletheia\\env\\lib\\site-packages (from spacy) (2.4.5)\n",
      "Requirement already satisfied: tqdm<5.0.0,>=4.38.0 in d:\\workspace\\aletheia\\env\\lib\\site-packages (from spacy) (4.64.1)\n",
      "Requirement already satisfied: pydantic!=1.8,!=1.8.1,<1.11.0,>=1.7.4 in d:\\workspace\\aletheia\\env\\lib\\site-packages (from spacy) (1.10.2)\n",
      "Requirement already satisfied: langcodes<4.0.0,>=3.2.0 in d:\\workspace\\aletheia\\env\\lib\\site-packages (from spacy) (3.3.0)\n",
      "Requirement already satisfied: thinc<8.2.0,>=8.1.0 in d:\\workspace\\aletheia\\env\\lib\\site-packages (from spacy) (8.1.5)\n",
      "Requirement already satisfied: preshed<3.1.0,>=3.0.2 in d:\\workspace\\aletheia\\env\\lib\\site-packages (from spacy) (3.0.8)\n",
      "Requirement already satisfied: packaging>=20.0 in d:\\workspace\\aletheia\\env\\lib\\site-packages (from spacy) (21.3)\n",
      "Requirement already satisfied: catalogue<2.1.0,>=2.0.6 in d:\\workspace\\aletheia\\env\\lib\\site-packages (from spacy) (2.0.8)\n",
      "Requirement already satisfied: cymem<2.1.0,>=2.0.2 in d:\\workspace\\aletheia\\env\\lib\\site-packages (from spacy) (2.0.7)\n",
      "Requirement already satisfied: pyparsing!=3.0.5,>=2.0.2 in d:\\workspace\\aletheia\\env\\lib\\site-packages (from packaging>=20.0->spacy) (3.0.9)\n",
      "Requirement already satisfied: smart-open<6.0.0,>=5.2.1 in d:\\workspace\\aletheia\\env\\lib\\site-packages (from pathy>=0.3.5->spacy) (5.2.1)\n",
      "Requirement already satisfied: typing-extensions>=4.1.0 in d:\\workspace\\aletheia\\env\\lib\\site-packages (from pydantic!=1.8,!=1.8.1,<1.11.0,>=1.7.4->spacy) (4.4.0)\n",
      "Requirement already satisfied: charset-normalizer<3,>=2 in d:\\workspace\\aletheia\\env\\lib\\site-packages (from requests<3.0.0,>=2.13.0->spacy) (2.1.1)\n",
      "Requirement already satisfied: certifi>=2017.4.17 in d:\\workspace\\aletheia\\env\\lib\\site-packages (from requests<3.0.0,>=2.13.0->spacy) (2022.9.24)\n",
      "Requirement already satisfied: idna<4,>=2.5 in d:\\workspace\\aletheia\\env\\lib\\site-packages (from requests<3.0.0,>=2.13.0->spacy) (3.4)\n",
      "Requirement already satisfied: urllib3<1.27,>=1.21.1 in d:\\workspace\\aletheia\\env\\lib\\site-packages (from requests<3.0.0,>=2.13.0->spacy) (1.26.13)\n",
      "Requirement already satisfied: blis<0.8.0,>=0.7.8 in d:\\workspace\\aletheia\\env\\lib\\site-packages (from thinc<8.2.0,>=8.1.0->spacy) (0.7.9)\n",
      "Requirement already satisfied: confection<1.0.0,>=0.0.1 in d:\\workspace\\aletheia\\env\\lib\\site-packages (from thinc<8.2.0,>=8.1.0->spacy) (0.0.3)\n",
      "Requirement already satisfied: colorama in d:\\workspace\\aletheia\\env\\lib\\site-packages (from tqdm<5.0.0,>=4.38.0->spacy) (0.4.6)\n",
      "Requirement already satisfied: click<9.0.0,>=7.1.1 in d:\\workspace\\aletheia\\env\\lib\\site-packages (from typer<0.8.0,>=0.3.0->spacy) (8.1.3)\n",
      "Requirement already satisfied: MarkupSafe>=2.0 in d:\\workspace\\aletheia\\env\\lib\\site-packages (from jinja2->spacy) (2.1.1)\n"
     ]
    },
    {
     "name": "stderr",
     "output_type": "stream",
     "text": [
      "\n",
      "[notice] A new release of pip available: 22.2.2 -> 22.3.1\n",
      "[notice] To update, run: python.exe -m pip install --upgrade pip\n"
     ]
    },
    {
     "name": "stdout",
     "output_type": "stream",
     "text": [
      "Collecting en-core-web-trf==3.4.1\n",
      "  Downloading https://github.com/explosion/spacy-models/releases/download/en_core_web_trf-3.4.1/en_core_web_trf-3.4.1-py3-none-any.whl (460.3 MB)\n",
      "     -------------------------------------- 460.3/460.3 MB 4.3 MB/s eta 0:00:00\n",
      "Requirement already satisfied: spacy<3.5.0,>=3.4.1 in d:\\workspace\\aletheia\\env\\lib\\site-packages (from en-core-web-trf==3.4.1) (3.4.3)\n",
      "Requirement already satisfied: spacy-transformers<1.2.0,>=1.1.2 in d:\\workspace\\aletheia\\env\\lib\\site-packages (from en-core-web-trf==3.4.1) (1.1.8)\n",
      "Requirement already satisfied: preshed<3.1.0,>=3.0.2 in d:\\workspace\\aletheia\\env\\lib\\site-packages (from spacy<3.5.0,>=3.4.1->en-core-web-trf==3.4.1) (3.0.8)\n",
      "Requirement already satisfied: spacy-loggers<2.0.0,>=1.0.0 in d:\\workspace\\aletheia\\env\\lib\\site-packages (from spacy<3.5.0,>=3.4.1->en-core-web-trf==3.4.1) (1.0.3)\n",
      "Requirement already satisfied: packaging>=20.0 in d:\\workspace\\aletheia\\env\\lib\\site-packages (from spacy<3.5.0,>=3.4.1->en-core-web-trf==3.4.1) (21.3)\n",
      "Requirement already satisfied: catalogue<2.1.0,>=2.0.6 in d:\\workspace\\aletheia\\env\\lib\\site-packages (from spacy<3.5.0,>=3.4.1->en-core-web-trf==3.4.1) (2.0.8)\n",
      "Requirement already satisfied: murmurhash<1.1.0,>=0.28.0 in d:\\workspace\\aletheia\\env\\lib\\site-packages (from spacy<3.5.0,>=3.4.1->en-core-web-trf==3.4.1) (1.0.9)\n",
      "Requirement already satisfied: thinc<8.2.0,>=8.1.0 in d:\\workspace\\aletheia\\env\\lib\\site-packages (from spacy<3.5.0,>=3.4.1->en-core-web-trf==3.4.1) (8.1.5)\n",
      "Requirement already satisfied: pydantic!=1.8,!=1.8.1,<1.11.0,>=1.7.4 in d:\\workspace\\aletheia\\env\\lib\\site-packages (from spacy<3.5.0,>=3.4.1->en-core-web-trf==3.4.1) (1.10.2)\n",
      "Requirement already satisfied: spacy-legacy<3.1.0,>=3.0.10 in d:\\workspace\\aletheia\\env\\lib\\site-packages (from spacy<3.5.0,>=3.4.1->en-core-web-trf==3.4.1) (3.0.10)\n",
      "Requirement already satisfied: numpy>=1.15.0 in d:\\workspace\\aletheia\\env\\lib\\site-packages (from spacy<3.5.0,>=3.4.1->en-core-web-trf==3.4.1) (1.23.5)\n",
      "Requirement already satisfied: setuptools in d:\\workspace\\aletheia\\env\\lib\\site-packages (from spacy<3.5.0,>=3.4.1->en-core-web-trf==3.4.1) (63.2.0)\n",
      "Requirement already satisfied: jinja2 in d:\\workspace\\aletheia\\env\\lib\\site-packages (from spacy<3.5.0,>=3.4.1->en-core-web-trf==3.4.1) (3.1.2)\n",
      "Requirement already satisfied: cymem<2.1.0,>=2.0.2 in d:\\workspace\\aletheia\\env\\lib\\site-packages (from spacy<3.5.0,>=3.4.1->en-core-web-trf==3.4.1) (2.0.7)\n",
      "Requirement already satisfied: srsly<3.0.0,>=2.4.3 in d:\\workspace\\aletheia\\env\\lib\\site-packages (from spacy<3.5.0,>=3.4.1->en-core-web-trf==3.4.1) (2.4.5)\n",
      "Requirement already satisfied: typer<0.8.0,>=0.3.0 in d:\\workspace\\aletheia\\env\\lib\\site-packages (from spacy<3.5.0,>=3.4.1->en-core-web-trf==3.4.1) (0.7.0)\n",
      "Requirement already satisfied: langcodes<4.0.0,>=3.2.0 in d:\\workspace\\aletheia\\env\\lib\\site-packages (from spacy<3.5.0,>=3.4.1->en-core-web-trf==3.4.1) (3.3.0)\n",
      "Requirement already satisfied: pathy>=0.3.5 in d:\\workspace\\aletheia\\env\\lib\\site-packages (from spacy<3.5.0,>=3.4.1->en-core-web-trf==3.4.1) (0.10.0)\n",
      "Requirement already satisfied: tqdm<5.0.0,>=4.38.0 in d:\\workspace\\aletheia\\env\\lib\\site-packages (from spacy<3.5.0,>=3.4.1->en-core-web-trf==3.4.1) (4.64.1)\n",
      "Requirement already satisfied: requests<3.0.0,>=2.13.0 in d:\\workspace\\aletheia\\env\\lib\\site-packages (from spacy<3.5.0,>=3.4.1->en-core-web-trf==3.4.1) (2.28.1)\n",
      "Requirement already satisfied: wasabi<1.1.0,>=0.9.1 in d:\\workspace\\aletheia\\env\\lib\\site-packages (from spacy<3.5.0,>=3.4.1->en-core-web-trf==3.4.1) (0.10.1)\n",
      "Requirement already satisfied: transformers<4.22.0,>=3.4.0 in d:\\workspace\\aletheia\\env\\lib\\site-packages (from spacy-transformers<1.2.0,>=1.1.2->en-core-web-trf==3.4.1) (4.21.3)\n",
      "Requirement already satisfied: spacy-alignments<1.0.0,>=0.7.2 in d:\\workspace\\aletheia\\env\\lib\\site-packages (from spacy-transformers<1.2.0,>=1.1.2->en-core-web-trf==3.4.1) (0.8.6)\n",
      "Requirement already satisfied: torch>=1.6.0 in d:\\workspace\\aletheia\\env\\lib\\site-packages (from spacy-transformers<1.2.0,>=1.1.2->en-core-web-trf==3.4.1) (1.13.0)\n",
      "Requirement already satisfied: pyparsing!=3.0.5,>=2.0.2 in d:\\workspace\\aletheia\\env\\lib\\site-packages (from packaging>=20.0->spacy<3.5.0,>=3.4.1->en-core-web-trf==3.4.1) (3.0.9)\n",
      "Requirement already satisfied: smart-open<6.0.0,>=5.2.1 in d:\\workspace\\aletheia\\env\\lib\\site-packages (from pathy>=0.3.5->spacy<3.5.0,>=3.4.1->en-core-web-trf==3.4.1) (5.2.1)\n",
      "Requirement already satisfied: typing-extensions>=4.1.0 in d:\\workspace\\aletheia\\env\\lib\\site-packages (from pydantic!=1.8,!=1.8.1,<1.11.0,>=1.7.4->spacy<3.5.0,>=3.4.1->en-core-web-trf==3.4.1) (4.4.0)\n",
      "Requirement already satisfied: charset-normalizer<3,>=2 in d:\\workspace\\aletheia\\env\\lib\\site-packages (from requests<3.0.0,>=2.13.0->spacy<3.5.0,>=3.4.1->en-core-web-trf==3.4.1) (2.1.1)\n",
      "Requirement already satisfied: certifi>=2017.4.17 in d:\\workspace\\aletheia\\env\\lib\\site-packages (from requests<3.0.0,>=2.13.0->spacy<3.5.0,>=3.4.1->en-core-web-trf==3.4.1) (2022.9.24)\n",
      "Requirement already satisfied: urllib3<1.27,>=1.21.1 in d:\\workspace\\aletheia\\env\\lib\\site-packages (from requests<3.0.0,>=2.13.0->spacy<3.5.0,>=3.4.1->en-core-web-trf==3.4.1) (1.26.13)\n",
      "Requirement already satisfied: idna<4,>=2.5 in d:\\workspace\\aletheia\\env\\lib\\site-packages (from requests<3.0.0,>=2.13.0->spacy<3.5.0,>=3.4.1->en-core-web-trf==3.4.1) (3.4)\n",
      "Requirement already satisfied: confection<1.0.0,>=0.0.1 in d:\\workspace\\aletheia\\env\\lib\\site-packages (from thinc<8.2.0,>=8.1.0->spacy<3.5.0,>=3.4.1->en-core-web-trf==3.4.1) (0.0.3)\n",
      "Requirement already satisfied: blis<0.8.0,>=0.7.8 in d:\\workspace\\aletheia\\env\\lib\\site-packages (from thinc<8.2.0,>=8.1.0->spacy<3.5.0,>=3.4.1->en-core-web-trf==3.4.1) (0.7.9)\n",
      "Requirement already satisfied: colorama in d:\\workspace\\aletheia\\env\\lib\\site-packages (from tqdm<5.0.0,>=4.38.0->spacy<3.5.0,>=3.4.1->en-core-web-trf==3.4.1) (0.4.6)\n",
      "Requirement already satisfied: tokenizers!=0.11.3,<0.13,>=0.11.1 in d:\\workspace\\aletheia\\env\\lib\\site-packages (from transformers<4.22.0,>=3.4.0->spacy-transformers<1.2.0,>=1.1.2->en-core-web-trf==3.4.1) (0.12.1)\n",
      "Requirement already satisfied: filelock in d:\\workspace\\aletheia\\env\\lib\\site-packages (from transformers<4.22.0,>=3.4.0->spacy-transformers<1.2.0,>=1.1.2->en-core-web-trf==3.4.1) (3.8.0)\n",
      "Requirement already satisfied: regex!=2019.12.17 in d:\\workspace\\aletheia\\env\\lib\\site-packages (from transformers<4.22.0,>=3.4.0->spacy-transformers<1.2.0,>=1.1.2->en-core-web-trf==3.4.1) (2022.10.31)\n",
      "Requirement already satisfied: pyyaml>=5.1 in d:\\workspace\\aletheia\\env\\lib\\site-packages (from transformers<4.22.0,>=3.4.0->spacy-transformers<1.2.0,>=1.1.2->en-core-web-trf==3.4.1) (6.0)\n",
      "Requirement already satisfied: huggingface-hub<1.0,>=0.1.0 in d:\\workspace\\aletheia\\env\\lib\\site-packages (from transformers<4.22.0,>=3.4.0->spacy-transformers<1.2.0,>=1.1.2->en-core-web-trf==3.4.1) (0.11.0)\n",
      "Requirement already satisfied: click<9.0.0,>=7.1.1 in d:\\workspace\\aletheia\\env\\lib\\site-packages (from typer<0.8.0,>=0.3.0->spacy<3.5.0,>=3.4.1->en-core-web-trf==3.4.1) (8.1.3)\n",
      "Requirement already satisfied: MarkupSafe>=2.0 in d:\\workspace\\aletheia\\env\\lib\\site-packages (from jinja2->spacy<3.5.0,>=3.4.1->en-core-web-trf==3.4.1) (2.1.1)\n",
      "✔ Download and installation successful\n",
      "You can now load the package via spacy.load('en_core_web_trf')\n"
     ]
    },
    {
     "name": "stderr",
     "output_type": "stream",
     "text": [
      "\n",
      "[notice] A new release of pip available: 22.2.2 -> 22.3.1\n",
      "[notice] To update, run: python.exe -m pip install --upgrade pip\n"
     ]
    },
    {
     "name": "stdout",
     "output_type": "stream",
     "text": [
      "Collecting en-core-web-md==3.4.1\n",
      "  Downloading https://github.com/explosion/spacy-models/releases/download/en_core_web_md-3.4.1/en_core_web_md-3.4.1-py3-none-any.whl (42.8 MB)\n",
      "     --------------------------------------- 42.8/42.8 MB 29.7 MB/s eta 0:00:00\n",
      "Requirement already satisfied: spacy<3.5.0,>=3.4.0 in d:\\workspace\\aletheia\\env\\lib\\site-packages (from en-core-web-md==3.4.1) (3.4.3)\n",
      "Requirement already satisfied: catalogue<2.1.0,>=2.0.6 in d:\\workspace\\aletheia\\env\\lib\\site-packages (from spacy<3.5.0,>=3.4.0->en-core-web-md==3.4.1) (2.0.8)\n",
      "Requirement already satisfied: thinc<8.2.0,>=8.1.0 in d:\\workspace\\aletheia\\env\\lib\\site-packages (from spacy<3.5.0,>=3.4.0->en-core-web-md==3.4.1) (8.1.5)\n",
      "Requirement already satisfied: pathy>=0.3.5 in d:\\workspace\\aletheia\\env\\lib\\site-packages (from spacy<3.5.0,>=3.4.0->en-core-web-md==3.4.1) (0.10.0)\n",
      "Requirement already satisfied: spacy-legacy<3.1.0,>=3.0.10 in d:\\workspace\\aletheia\\env\\lib\\site-packages (from spacy<3.5.0,>=3.4.0->en-core-web-md==3.4.1) (3.0.10)\n",
      "Requirement already satisfied: preshed<3.1.0,>=3.0.2 in d:\\workspace\\aletheia\\env\\lib\\site-packages (from spacy<3.5.0,>=3.4.0->en-core-web-md==3.4.1) (3.0.8)\n",
      "Requirement already satisfied: wasabi<1.1.0,>=0.9.1 in d:\\workspace\\aletheia\\env\\lib\\site-packages (from spacy<3.5.0,>=3.4.0->en-core-web-md==3.4.1) (0.10.1)\n",
      "Requirement already satisfied: setuptools in d:\\workspace\\aletheia\\env\\lib\\site-packages (from spacy<3.5.0,>=3.4.0->en-core-web-md==3.4.1) (63.2.0)\n",
      "Requirement already satisfied: srsly<3.0.0,>=2.4.3 in d:\\workspace\\aletheia\\env\\lib\\site-packages (from spacy<3.5.0,>=3.4.0->en-core-web-md==3.4.1) (2.4.5)\n",
      "Requirement already satisfied: spacy-loggers<2.0.0,>=1.0.0 in d:\\workspace\\aletheia\\env\\lib\\site-packages (from spacy<3.5.0,>=3.4.0->en-core-web-md==3.4.1) (1.0.3)\n",
      "Requirement already satisfied: jinja2 in d:\\workspace\\aletheia\\env\\lib\\site-packages (from spacy<3.5.0,>=3.4.0->en-core-web-md==3.4.1) (3.1.2)\n",
      "Requirement already satisfied: pydantic!=1.8,!=1.8.1,<1.11.0,>=1.7.4 in d:\\workspace\\aletheia\\env\\lib\\site-packages (from spacy<3.5.0,>=3.4.0->en-core-web-md==3.4.1) (1.10.2)\n",
      "Requirement already satisfied: cymem<2.1.0,>=2.0.2 in d:\\workspace\\aletheia\\env\\lib\\site-packages (from spacy<3.5.0,>=3.4.0->en-core-web-md==3.4.1) (2.0.7)\n",
      "Requirement already satisfied: murmurhash<1.1.0,>=0.28.0 in d:\\workspace\\aletheia\\env\\lib\\site-packages (from spacy<3.5.0,>=3.4.0->en-core-web-md==3.4.1) (1.0.9)\n",
      "Requirement already satisfied: typer<0.8.0,>=0.3.0 in d:\\workspace\\aletheia\\env\\lib\\site-packages (from spacy<3.5.0,>=3.4.0->en-core-web-md==3.4.1) (0.7.0)\n",
      "Requirement already satisfied: langcodes<4.0.0,>=3.2.0 in d:\\workspace\\aletheia\\env\\lib\\site-packages (from spacy<3.5.0,>=3.4.0->en-core-web-md==3.4.1) (3.3.0)\n",
      "Requirement already satisfied: requests<3.0.0,>=2.13.0 in d:\\workspace\\aletheia\\env\\lib\\site-packages (from spacy<3.5.0,>=3.4.0->en-core-web-md==3.4.1) (2.28.1)\n",
      "Requirement already satisfied: numpy>=1.15.0 in d:\\workspace\\aletheia\\env\\lib\\site-packages (from spacy<3.5.0,>=3.4.0->en-core-web-md==3.4.1) (1.23.5)\n",
      "Requirement already satisfied: packaging>=20.0 in d:\\workspace\\aletheia\\env\\lib\\site-packages (from spacy<3.5.0,>=3.4.0->en-core-web-md==3.4.1) (21.3)\n",
      "Requirement already satisfied: tqdm<5.0.0,>=4.38.0 in d:\\workspace\\aletheia\\env\\lib\\site-packages (from spacy<3.5.0,>=3.4.0->en-core-web-md==3.4.1) (4.64.1)\n",
      "Requirement already satisfied: pyparsing!=3.0.5,>=2.0.2 in d:\\workspace\\aletheia\\env\\lib\\site-packages (from packaging>=20.0->spacy<3.5.0,>=3.4.0->en-core-web-md==3.4.1) (3.0.9)\n",
      "Requirement already satisfied: smart-open<6.0.0,>=5.2.1 in d:\\workspace\\aletheia\\env\\lib\\site-packages (from pathy>=0.3.5->spacy<3.5.0,>=3.4.0->en-core-web-md==3.4.1) (5.2.1)\n",
      "Requirement already satisfied: typing-extensions>=4.1.0 in d:\\workspace\\aletheia\\env\\lib\\site-packages (from pydantic!=1.8,!=1.8.1,<1.11.0,>=1.7.4->spacy<3.5.0,>=3.4.0->en-core-web-md==3.4.1) (4.4.0)\n",
      "Requirement already satisfied: certifi>=2017.4.17 in d:\\workspace\\aletheia\\env\\lib\\site-packages (from requests<3.0.0,>=2.13.0->spacy<3.5.0,>=3.4.0->en-core-web-md==3.4.1) (2022.9.24)\n",
      "Requirement already satisfied: charset-normalizer<3,>=2 in d:\\workspace\\aletheia\\env\\lib\\site-packages (from requests<3.0.0,>=2.13.0->spacy<3.5.0,>=3.4.0->en-core-web-md==3.4.1) (2.1.1)\n",
      "Requirement already satisfied: idna<4,>=2.5 in d:\\workspace\\aletheia\\env\\lib\\site-packages (from requests<3.0.0,>=2.13.0->spacy<3.5.0,>=3.4.0->en-core-web-md==3.4.1) (3.4)\n",
      "Requirement already satisfied: urllib3<1.27,>=1.21.1 in d:\\workspace\\aletheia\\env\\lib\\site-packages (from requests<3.0.0,>=2.13.0->spacy<3.5.0,>=3.4.0->en-core-web-md==3.4.1) (1.26.13)\n",
      "Requirement already satisfied: blis<0.8.0,>=0.7.8 in d:\\workspace\\aletheia\\env\\lib\\site-packages (from thinc<8.2.0,>=8.1.0->spacy<3.5.0,>=3.4.0->en-core-web-md==3.4.1) (0.7.9)\n",
      "Requirement already satisfied: confection<1.0.0,>=0.0.1 in d:\\workspace\\aletheia\\env\\lib\\site-packages (from thinc<8.2.0,>=8.1.0->spacy<3.5.0,>=3.4.0->en-core-web-md==3.4.1) (0.0.3)\n",
      "Requirement already satisfied: colorama in d:\\workspace\\aletheia\\env\\lib\\site-packages (from tqdm<5.0.0,>=4.38.0->spacy<3.5.0,>=3.4.0->en-core-web-md==3.4.1) (0.4.6)\n",
      "Requirement already satisfied: click<9.0.0,>=7.1.1 in d:\\workspace\\aletheia\\env\\lib\\site-packages (from typer<0.8.0,>=0.3.0->spacy<3.5.0,>=3.4.0->en-core-web-md==3.4.1) (8.1.3)\n",
      "Requirement already satisfied: MarkupSafe>=2.0 in d:\\workspace\\aletheia\\env\\lib\\site-packages (from jinja2->spacy<3.5.0,>=3.4.0->en-core-web-md==3.4.1) (2.1.1)\n",
      "✔ Download and installation successful\n",
      "You can now load the package via spacy.load('en_core_web_md')\n"
     ]
    },
    {
     "name": "stderr",
     "output_type": "stream",
     "text": [
      "\n",
      "[notice] A new release of pip available: 22.2.2 -> 22.3.1\n",
      "[notice] To update, run: python.exe -m pip install --upgrade pip\n"
     ]
    },
    {
     "name": "stdout",
     "output_type": "stream",
     "text": [
      "Requirement already satisfied: joblib in d:\\workspace\\aletheia\\env\\lib\\site-packages (1.2.0)\n"
     ]
    },
    {
     "name": "stderr",
     "output_type": "stream",
     "text": [
      "\n",
      "[notice] A new release of pip available: 22.2.2 -> 22.3.1\n",
      "[notice] To update, run: python.exe -m pip install --upgrade pip\n"
     ]
    },
    {
     "name": "stdout",
     "output_type": "stream",
     "text": [
      "Requirement already satisfied: tqdm in d:\\workspace\\aletheia\\env\\lib\\site-packages (4.64.1)\n",
      "Requirement already satisfied: colorama in d:\\workspace\\aletheia\\env\\lib\\site-packages (from tqdm) (0.4.6)\n"
     ]
    },
    {
     "name": "stderr",
     "output_type": "stream",
     "text": [
      "\n",
      "[notice] A new release of pip available: 22.2.2 -> 22.3.1\n",
      "[notice] To update, run: python.exe -m pip install --upgrade pip\n"
     ]
    }
   ],
   "source": [
    "# ## installing required libraries\n",
    "! pip install beautifulsoup4\n",
    "! pip install pandas\n",
    "! pip install numpy\n",
    "! pip install plotly\n",
    "! pip install nbformat\n",
    "! pip install ipykernel\n",
    "! pip install matplotlip\n",
    "! pip install wordcloud\n",
    "! pip install gensim\n",
    "! pip install pyLDAvis\n",
    "! pip install nltk\n",
    "! pip install -U pip setuptools wheel\n",
    "! pip install -U spacy\n",
    "! python -m spacy download en_core_web_trf \n",
    "! python -m spacy download en_core_web_md\n",
    "! pip install joblib\n",
    "! pip install tqdm"
   ]
  },
  {
   "cell_type": "markdown",
   "metadata": {},
   "source": [
    "## Importing Data"
   ]
  },
  {
   "cell_type": "code",
   "execution_count": 2,
   "metadata": {},
   "outputs": [
    {
     "name": "stderr",
     "output_type": "stream",
     "text": [
      "[nltk_data] Downloading package stopwords to\n",
      "[nltk_data]     C:\\Users\\gaura\\AppData\\Roaming\\nltk_data...\n",
      "[nltk_data]   Package stopwords is already up-to-date!\n",
      "d:\\workspace\\Aletheia\\env\\lib\\site-packages\\tqdm\\auto.py:22: TqdmWarning: IProgress not found. Please update jupyter and ipywidgets. See https://ipywidgets.readthedocs.io/en/stable/user_install.html\n",
      "  from .autonotebook import tqdm as notebook_tqdm\n",
      "d:\\workspace\\Aletheia\\env\\lib\\site-packages\\past\\builtins\\misc.py:45: DeprecationWarning: the imp module is deprecated in favour of importlib and slated for removal in Python 3.12; see the module's documentation for alternative uses\n",
      "  from imp import reload\n",
      "[nltk_data] Downloading package stopwords to\n",
      "[nltk_data]     C:\\Users\\gaura\\AppData\\Roaming\\nltk_data...\n",
      "[nltk_data]   Package stopwords is already up-to-date!\n",
      "[nltk_data] Downloading package stopwords to\n",
      "[nltk_data]     C:\\Users\\gaura\\AppData\\Roaming\\nltk_data...\n",
      "[nltk_data]   Package stopwords is already up-to-date!\n",
      "[nltk_data] Downloading package stopwords to\n",
      "[nltk_data]     C:\\Users\\gaura\\AppData\\Roaming\\nltk_data...\n",
      "[nltk_data]   Package stopwords is already up-to-date!\n"
     ]
    }
   ],
   "source": [
    "## lets load \n",
    "import pandas as pd\n",
    "# pd.set_option('display.max_rows', 500)\n",
    "# pd.set_option('display.max_columns', 500)\n",
    "# pd.set_option('display.width', 1000)\n",
    "\n",
    "import re\n",
    "import string\n",
    "from bs4 import BeautifulSoup\n",
    "\n",
    "import nltk\n",
    "from nltk.stem import PorterStemmer\n",
    "from nltk.stem.wordnet import WordNetLemmatizer\n",
    "nltk.download('stopwords')\n",
    "from pprint import pprint\n",
    "\n",
    "import spacy\n",
    "from sklearn.feature_extraction.text import TfidfVectorizer, CountVectorizer\n",
    "from sklearn.model_selection import train_test_split\n",
    "from sklearn.decomposition import LatentDirichletAllocation\n",
    "from sklearn.model_selection import GridSearchCV\n",
    "\n",
    "from gensim import corpora, models\n",
    "from gensim.utils import simple_preprocess\n",
    "from gensim.models import Phrases\n",
    "from gensim.models.phrases import Phraser\n",
    "from gensim.models import CoherenceModel\n",
    "from gensim.models.ldamodel import LdaModel\n",
    "from gensim.models.ldamulticore import LdaMulticore\n",
    "\n",
    "# Plotting tools\n",
    "import pyLDAvis\n",
    "import pyLDAvis.sklearn\n",
    "import pyLDAvis.gensim_models as gensimvis\n",
    "import matplotlib.pyplot as plt\n",
    "%matplotlib inline\n",
    "\n",
    "import plotly.express as px\n",
    "import plotly.graph_objects as go\n",
    "import plotly.io as io\n",
    "\n",
    "# loading library\n",
    "import pickle\n",
    "\n",
    "from joblib import dump, load\n",
    "\n",
    "from tqdm.auto import tqdm\n",
    "\n",
    "import os\n",
    "import sys\n",
    "sys.path.insert(0, os.path.abspath('../utils'))\n",
    "\n",
    "## importing custom modules\n",
    "import common_utils\n",
    "import gensim_utils\n",
    "import sklearn_utils"
   ]
  },
  {
   "cell_type": "markdown",
   "metadata": {},
   "source": [
    "## Reading Data"
   ]
  },
  {
   "cell_type": "code",
   "execution_count": 3,
   "metadata": {},
   "outputs": [
    {
     "name": "stdout",
     "output_type": "stream",
     "text": [
      "(3972, 12)\n"
     ]
    }
   ],
   "source": [
    "## reading manaully scrapped data\n",
    "data = pd.read_csv('../data/scrapped_fox_data_clean.csv')\n",
    "print(data.shape)"
   ]
  },
  {
   "cell_type": "code",
   "execution_count": 4,
   "metadata": {},
   "outputs": [
    {
     "name": "stderr",
     "output_type": "stream",
     "text": [
      "processing: 100%|██████████| 3972/3972 [00:01<00:00, 2557.60it/s]\n"
     ]
    }
   ],
   "source": [
    "def preprocess_text(text):\n",
    "     text = common_utils.clean_html(text)\n",
    "     text = common_utils.lower_case(text)\n",
    "     text = common_utils.remove_line_breaks(text)\n",
    "     text = common_utils.remove_punctuation(text)\n",
    "     text = common_utils.remove_numbers(text)\n",
    "     text = common_utils.remove_extra_spaces(text)\n",
    "     # text = remove_stopwords(text)\n",
    "     return text\n",
    "\n",
    "data[\"clean_text\"] = data[\"text\"].progress_apply(preprocess_text)"
   ]
  },
  {
   "cell_type": "code",
   "execution_count": 5,
   "metadata": {},
   "outputs": [
    {
     "data": {
      "text/plain": [
       "0    former governor and first term democratic sen ...\n",
       "1    president biden urged democrats on wednesday t...\n",
       "2    the famous naked cowboy in new york citys time...\n",
       "3    liberal groups in wisconsin seeking to change ...\n",
       "4    texas gubernatorial nominee beto o’rourke is a...\n",
       "Name: clean_text, dtype: object"
      ]
     },
     "execution_count": 5,
     "metadata": {},
     "output_type": "execute_result"
    }
   ],
   "source": [
    "data.head()[\"clean_text\"]"
   ]
  },
  {
   "cell_type": "markdown",
   "metadata": {},
   "source": [
    "## Sentiment Analysis Using VADER\n",
    "(Valence Aware Dictionary and sEntiment Reasoner)"
   ]
  },
  {
   "cell_type": "markdown",
   "metadata": {},
   "source": [
    "##### Notes\n",
    "* Uses Bag of words approach\n",
    "* Gives +tive, -tive or neutral values to each of the words in the sentence and then gives combined value of that to tell us whether the sentence is positive, negative or neutral\n",
    "* Does not account for relationship between words :("
   ]
  },
  {
   "cell_type": "code",
   "execution_count": 6,
   "metadata": {},
   "outputs": [],
   "source": [
    "from nltk.sentiment import SentimentIntensityAnalyzer\n"
   ]
  },
  {
   "cell_type": "code",
   "execution_count": 7,
   "metadata": {},
   "outputs": [
    {
     "data": {
      "text/plain": [
       "'Former governor and first term Democratic Sen. Maggie Hassan of New Hampshire and Republican challenger Don Bolduc took aim at each other over inflation, abortion, national security, the border crisis, election denialism, and many more issues in their third and final debate in their crucial battleground state race that’s among a handful across the country that will likely determine if the GOP wins back the Senate majority. But ahead of the verbal crossfire on the debate stage, Bolduc – a former Army general who served ten tours of duty in the war in Afghanistan – was allegedly assaulted as he arrived at the debate site at Saint Anselm College’s New Hampshire Institute of Politics on Wednesday evening. According to the Bolduc campaign, a bystander standing in the crowd outside the debate site took a swing at the former general as he arrived. The campaign says Bolduc was slightly grazed but not injured.&nbsp; Rick Wiley of the Bolduc campaign tells Fox News the person who threw the punch at the former general appeared to be a Libertarian activist. THE FINAL COUNTDOWN: WHAT\\'S AT STAKE IN THE MIDTERM ELECTIONS  Hassan\\'s campaign communications director Kevin Donohoe tweeted about the incident, writing: \"Disgusting behavior. We saw this same libertarian party activist get aggressive with our campaign volunteers at this debate and the last.\" Bolduc referenced the altercation near the end of the debate, when he and Hassan discussed the brutal attack on House Speaker Nancy Pelosi’s husband at their San Francisco home. The GOP Senate nominee said \"it\\'s a sign of political problems. Republicans and Democrat, that fuel issues with people that get them to the point where they are just so upset at an individual that they strike out at them. Happened to me outside just before I came in. Right. This is wrong and it needs to be stopped.\" Bolduc campaign spokesperson Kate Constantini told Fox News in a statement that \"as the General said on stage tonight, it’s time to lower the temperature of the political discourse in this country. Prior to the debate, an individual in the crowd gathered outside attempted to punch the General and was quickly apprehended and arrested. We are grateful to the quick response from law enforcement on the scene.\" CHECK OUT THE LATEST FOX NEWS MIDTERMS POWER RANKINGS The former general, who’s making his second straight bid for the Senate in New Hampshire, has run a populist-style campaign this cycle, emphasizing his MAGA-Republican and outsider credentials in a crowded and combustible GOP primary. In mid-September, Bolduc narrowly edged more mainstream conservative Chuck Morse, the state Senate president who was backed by popular GOP Gov. Chris Sununu, to win the nomination. And over the past six weeks Bolduc has slowly but steadily eaten into Hassan’s once upper-single digit lead in public opinion polling. The most recent surveys in the race suggest it’s a margin of error contest with six days to go until the election.  The two candidates traded fire at the top of the debate over the combustible issue of abortion. For weeks Hassan’s campaign and allied Democratic groups have showcased clips of Bolduc from last year vowing that he would never \"vote contrary to pro-life\" and from June celebrating the blockbuster move by the Supreme Court’s conservative majority to overturn the landmark Roe v. Wade ruling, sending the issue of legalized abortion back to the states. HASSAN TOUTS EFFORTS TO PUSH BIDEN TO DO MORE TO LOWER PRICES But Buldoc told Fox News immediately after capturing the GOP nomination that if he were in the Senate, he would not support a proposal, unveiled earlier this month by Republican Sen. Lindsey Graham of South Carolina, to implement a 15-week federal abortion ban, because abortion is now a state issue. Bolduc, at Wednesday’s debate, reiterated that \"I have promised to all Granite Staters that I will not vote for any federal legislation that has to do with abortion. It is a state’s rights issue.\" Hassan emphasized that \"this is about a fundamental right of a woman to make her own health care decisions and her health and safety, and I believe strongly that those decisions need to be made by a woman and her doctor.\"  And the senator charged that Bolduc \"is a yes vote for a nationwide abortion ban and he’s trying to conceal his record.\" \"That is an absolute lie,\" the GOP challenger fired back, before alleging that Hassan \"does believe in abortion up to birth.\" The senator retorted that \"he’s really working to conceal his extremism from Granite Staters.\" On inflation, Hassan touted that \"I have stood up to big pharma and passed legislation that will lower people’s prescription drug costs. My opponent says he wouldn’t have done that. I have proposed suspending the gas tax until we see a great reduction in gas prices. My opponent stands with big oil and says he wouldn’t do that either.\" She also showcased her support for bipartisan spending bills she helped pass during both the Trump and Biden administration. FORMER ARMY GENERAL TURNED GOP SENATE NOMINEE IN KEY BATTLEGROUND HIGHLIGHTS ‘NEW MISSION’ Bolduc stressed that \"I wouldn’t have voted for them. They were unnecessary.\" And pointing to record inflation, he charged that \"all her votes in the Senate have caused this heating and eating issue that we have. Retirees going back to work. She’s created it by her 100% support to Joe Biden’s failed policies… She’s caused these problems for many Granite Staters going into the winter not knowing how they’ll feed their children and heat their homes.\"  Hassan, responding, claimed Bolduc is in big oil’s pockets, saying \"you’re hearing Don Bolduc sing big oil’s song.\" Bolduc, who said during the primary campaign that he supported former President Donald Trump’s repeated unproven claims that his 2020 election loss to Biden was due to \"massive voter fraud,\" quickly reversed course after his nomination victory. In a Fox News interview days later, Bolduc said that after speaking with Granite Staters, he had \"come to the conclusion\" that the 2020 presidential election \"was not stolen.\" TULSI GABBARD TEAMS UP WITH DON BOLDUC ON THE CAMPAIGN TRAIL Trump, who stayed neutral in the Republican primary in New Hampshire, on Monday endorsed Bolduc but dinged him over reversing his views on the 2020 election.&nbsp; \"General Don Bolduc has run a great campaign to be the U.S. Senator from the beautiful State of New Hampshire. He was a strong and proud ‘Election Denier,’ a big reason that he won the Nomination, but he then disavowed,\" Trump wrote on social media. \"He has since come back, at least on busing, but that is only a small part of N.H. Election Fraud. Nevertheless, Don Bolduc has asked for my Endorsement, and he’s got it, Complete &amp; Total,\" the former president added. At the debate, Hassan argued that Bolduc’s changing responses on whether the 2020 election was stolen show that he’s \"an extremist, the most extreme nominee for U.S. Senate New Hampshire has seen in modern history and he keeps trying to conceal that from Granite Staters.\"&nbsp; And she argued that \"he spent over a year in New Hampshire stoking the big lie… he then has begun to cast doubt on the 2022 elections, saying there will be ballot dumps in the middle of the night.\" CLICK HERE TO GET THE FOX NEWS APP Given the chance to respond to Hassan’s attacks, Bolduc criticized the debate’s moderators, saying \"thanks for giving her a softball, because that’s exactly what she needed because she can’t hit a fastball.\"&nbsp; And he stressed that \"the bottom line is we need to focus on the future.\"'"
      ]
     },
     "execution_count": 7,
     "metadata": {},
     "output_type": "execute_result"
    }
   ],
   "source": [
    "example = data[\"text\"][0]\n",
    "example"
   ]
  },
  {
   "cell_type": "code",
   "execution_count": 9,
   "metadata": {},
   "outputs": [
    {
     "name": "stdout",
     "output_type": "stream",
     "text": [
      "showing info https://raw.githubusercontent.com/nltk/nltk_data/gh-pages/index.xml\n"
     ]
    },
    {
     "data": {
      "text/plain": [
       "True"
      ]
     },
     "execution_count": 9,
     "metadata": {},
     "output_type": "execute_result"
    }
   ],
   "source": [
    "nltk.download()"
   ]
  },
  {
   "cell_type": "code",
   "execution_count": 8,
   "metadata": {},
   "outputs": [
    {
     "ename": "LookupError",
     "evalue": "\n**********************************************************************\n  Resource \u001b[93mvader_lexicon\u001b[0m not found.\n  Please use the NLTK Downloader to obtain the resource:\n\n  \u001b[31m>>> import nltk\n  >>> nltk.download('vader_lexicon')\n  \u001b[0m\n  For more information see: https://www.nltk.org/data.html\n\n  Attempted to load \u001b[93msentiment/vader_lexicon.zip/vader_lexicon/vader_lexicon.txt\u001b[0m\n\n  Searched in:\n    - 'C:\\\\Users\\\\gaura/nltk_data'\n    - 'd:\\\\workspace\\\\Aletheia\\\\env\\\\nltk_data'\n    - 'd:\\\\workspace\\\\Aletheia\\\\env\\\\share\\\\nltk_data'\n    - 'd:\\\\workspace\\\\Aletheia\\\\env\\\\lib\\\\nltk_data'\n    - 'C:\\\\Users\\\\gaura\\\\AppData\\\\Roaming\\\\nltk_data'\n    - 'C:\\\\nltk_data'\n    - 'D:\\\\nltk_data'\n    - 'E:\\\\nltk_data'\n    - ''\n**********************************************************************\n",
     "output_type": "error",
     "traceback": [
      "\u001b[1;31m---------------------------------------------------------------------------\u001b[0m",
      "\u001b[1;31mLookupError\u001b[0m                               Traceback (most recent call last)",
      "Cell \u001b[1;32mIn [8], line 1\u001b[0m\n\u001b[1;32m----> 1\u001b[0m sia \u001b[39m=\u001b[39m SentimentIntensityAnalyzer()\n",
      "File \u001b[1;32md:\\workspace\\Aletheia\\env\\lib\\site-packages\\nltk\\sentiment\\vader.py:340\u001b[0m, in \u001b[0;36mSentimentIntensityAnalyzer.__init__\u001b[1;34m(self, lexicon_file)\u001b[0m\n\u001b[0;32m    336\u001b[0m \u001b[39mdef\u001b[39;00m \u001b[39m__init__\u001b[39m(\n\u001b[0;32m    337\u001b[0m     \u001b[39mself\u001b[39m,\n\u001b[0;32m    338\u001b[0m     lexicon_file\u001b[39m=\u001b[39m\u001b[39m\"\u001b[39m\u001b[39msentiment/vader_lexicon.zip/vader_lexicon/vader_lexicon.txt\u001b[39m\u001b[39m\"\u001b[39m,\n\u001b[0;32m    339\u001b[0m ):\n\u001b[1;32m--> 340\u001b[0m     \u001b[39mself\u001b[39m\u001b[39m.\u001b[39mlexicon_file \u001b[39m=\u001b[39m nltk\u001b[39m.\u001b[39;49mdata\u001b[39m.\u001b[39;49mload(lexicon_file)\n\u001b[0;32m    341\u001b[0m     \u001b[39mself\u001b[39m\u001b[39m.\u001b[39mlexicon \u001b[39m=\u001b[39m \u001b[39mself\u001b[39m\u001b[39m.\u001b[39mmake_lex_dict()\n\u001b[0;32m    342\u001b[0m     \u001b[39mself\u001b[39m\u001b[39m.\u001b[39mconstants \u001b[39m=\u001b[39m VaderConstants()\n",
      "File \u001b[1;32md:\\workspace\\Aletheia\\env\\lib\\site-packages\\nltk\\data.py:750\u001b[0m, in \u001b[0;36mload\u001b[1;34m(resource_url, format, cache, verbose, logic_parser, fstruct_reader, encoding)\u001b[0m\n\u001b[0;32m    747\u001b[0m     \u001b[39mprint\u001b[39m(\u001b[39mf\u001b[39m\u001b[39m\"\u001b[39m\u001b[39m<<Loading \u001b[39m\u001b[39m{\u001b[39;00mresource_url\u001b[39m}\u001b[39;00m\u001b[39m>>\u001b[39m\u001b[39m\"\u001b[39m)\n\u001b[0;32m    749\u001b[0m \u001b[39m# Load the resource.\u001b[39;00m\n\u001b[1;32m--> 750\u001b[0m opened_resource \u001b[39m=\u001b[39m _open(resource_url)\n\u001b[0;32m    752\u001b[0m \u001b[39mif\u001b[39;00m \u001b[39mformat\u001b[39m \u001b[39m==\u001b[39m \u001b[39m\"\u001b[39m\u001b[39mraw\u001b[39m\u001b[39m\"\u001b[39m:\n\u001b[0;32m    753\u001b[0m     resource_val \u001b[39m=\u001b[39m opened_resource\u001b[39m.\u001b[39mread()\n",
      "File \u001b[1;32md:\\workspace\\Aletheia\\env\\lib\\site-packages\\nltk\\data.py:876\u001b[0m, in \u001b[0;36m_open\u001b[1;34m(resource_url)\u001b[0m\n\u001b[0;32m    873\u001b[0m protocol, path_ \u001b[39m=\u001b[39m split_resource_url(resource_url)\n\u001b[0;32m    875\u001b[0m \u001b[39mif\u001b[39;00m protocol \u001b[39mis\u001b[39;00m \u001b[39mNone\u001b[39;00m \u001b[39mor\u001b[39;00m protocol\u001b[39m.\u001b[39mlower() \u001b[39m==\u001b[39m \u001b[39m\"\u001b[39m\u001b[39mnltk\u001b[39m\u001b[39m\"\u001b[39m:\n\u001b[1;32m--> 876\u001b[0m     \u001b[39mreturn\u001b[39;00m find(path_, path \u001b[39m+\u001b[39;49m [\u001b[39m\"\u001b[39;49m\u001b[39m\"\u001b[39;49m])\u001b[39m.\u001b[39mopen()\n\u001b[0;32m    877\u001b[0m \u001b[39melif\u001b[39;00m protocol\u001b[39m.\u001b[39mlower() \u001b[39m==\u001b[39m \u001b[39m\"\u001b[39m\u001b[39mfile\u001b[39m\u001b[39m\"\u001b[39m:\n\u001b[0;32m    878\u001b[0m     \u001b[39m# urllib might not use mode='rb', so handle this one ourselves:\u001b[39;00m\n\u001b[0;32m    879\u001b[0m     \u001b[39mreturn\u001b[39;00m find(path_, [\u001b[39m\"\u001b[39m\u001b[39m\"\u001b[39m])\u001b[39m.\u001b[39mopen()\n",
      "File \u001b[1;32md:\\workspace\\Aletheia\\env\\lib\\site-packages\\nltk\\data.py:583\u001b[0m, in \u001b[0;36mfind\u001b[1;34m(resource_name, paths)\u001b[0m\n\u001b[0;32m    581\u001b[0m sep \u001b[39m=\u001b[39m \u001b[39m\"\u001b[39m\u001b[39m*\u001b[39m\u001b[39m\"\u001b[39m \u001b[39m*\u001b[39m \u001b[39m70\u001b[39m\n\u001b[0;32m    582\u001b[0m resource_not_found \u001b[39m=\u001b[39m \u001b[39mf\u001b[39m\u001b[39m\"\u001b[39m\u001b[39m\\n\u001b[39;00m\u001b[39m{\u001b[39;00msep\u001b[39m}\u001b[39;00m\u001b[39m\\n\u001b[39;00m\u001b[39m{\u001b[39;00mmsg\u001b[39m}\u001b[39;00m\u001b[39m\\n\u001b[39;00m\u001b[39m{\u001b[39;00msep\u001b[39m}\u001b[39;00m\u001b[39m\\n\u001b[39;00m\u001b[39m\"\u001b[39m\n\u001b[1;32m--> 583\u001b[0m \u001b[39mraise\u001b[39;00m \u001b[39mLookupError\u001b[39;00m(resource_not_found)\n",
      "\u001b[1;31mLookupError\u001b[0m: \n**********************************************************************\n  Resource \u001b[93mvader_lexicon\u001b[0m not found.\n  Please use the NLTK Downloader to obtain the resource:\n\n  \u001b[31m>>> import nltk\n  >>> nltk.download('vader_lexicon')\n  \u001b[0m\n  For more information see: https://www.nltk.org/data.html\n\n  Attempted to load \u001b[93msentiment/vader_lexicon.zip/vader_lexicon/vader_lexicon.txt\u001b[0m\n\n  Searched in:\n    - 'C:\\\\Users\\\\gaura/nltk_data'\n    - 'd:\\\\workspace\\\\Aletheia\\\\env\\\\nltk_data'\n    - 'd:\\\\workspace\\\\Aletheia\\\\env\\\\share\\\\nltk_data'\n    - 'd:\\\\workspace\\\\Aletheia\\\\env\\\\lib\\\\nltk_data'\n    - 'C:\\\\Users\\\\gaura\\\\AppData\\\\Roaming\\\\nltk_data'\n    - 'C:\\\\nltk_data'\n    - 'D:\\\\nltk_data'\n    - 'E:\\\\nltk_data'\n    - ''\n**********************************************************************\n"
     ]
    }
   ],
   "source": [
    "sia = SentimentIntensityAnalyzer()"
   ]
  },
  {
   "cell_type": "code",
   "execution_count": 23,
   "metadata": {},
   "outputs": [
    {
     "ename": "NameError",
     "evalue": "name 'sia' is not defined",
     "output_type": "error",
     "traceback": [
      "\u001b[1;31m---------------------------------------------------------------------------\u001b[0m",
      "\u001b[1;31mNameError\u001b[0m                                 Traceback (most recent call last)",
      "Cell \u001b[1;32mIn [23], line 1\u001b[0m\n\u001b[1;32m----> 1\u001b[0m sia\u001b[39m.\u001b[39mpolarity_scores(example)\n",
      "\u001b[1;31mNameError\u001b[0m: name 'sia' is not defined"
     ]
    }
   ],
   "source": [
    "sia.polarity_scores(example)"
   ]
  },
  {
   "cell_type": "code",
   "execution_count": null,
   "metadata": {},
   "outputs": [],
   "source": []
  }
 ],
 "metadata": {
  "kernelspec": {
   "display_name": "Python 3.10.8 ('env': venv)",
   "language": "python",
   "name": "python3"
  },
  "language_info": {
   "codemirror_mode": {
    "name": "ipython",
    "version": 3
   },
   "file_extension": ".py",
   "mimetype": "text/x-python",
   "name": "python",
   "nbconvert_exporter": "python",
   "pygments_lexer": "ipython3",
   "version": "3.10.8"
  },
  "orig_nbformat": 4,
  "vscode": {
   "interpreter": {
    "hash": "914eef65da1375b54976b1eb4c0a6192cf68c9b736369c9231d1c03e2f3fef86"
   }
  }
 },
 "nbformat": 4,
 "nbformat_minor": 2
}
