{
  "cells": [
    {
      "cell_type": "markdown",
      "metadata": {},
      "source": [
        "# Raw Data EDA\n",
        "* This note book is created to perform EDA on raw scrapped data. \n",
        "* We are conducting this EDA to figure out, \n",
        "     * If there is any missing/corrupt data. \n",
        "     * If there are any interesting patterns in data. "
      ]
    },
    {
      "cell_type": "markdown",
      "metadata": {},
      "source": [
        "## Table Of Contents\n"
      ]
    },
    {
      "cell_type": "markdown",
      "metadata": {},
      "source": []
    },
    {
      "cell_type": "markdown",
      "metadata": {},
      "source": [
        "## Installing Required Libraries"
      ]
    },
    {
      "cell_type": "code",
      "execution_count": 1,
      "metadata": {
        "id": "R4C5lpEhW_N5"
      },
      "outputs": [
        {
          "name": "stdout",
          "output_type": "stream",
          "text": [
            "/bin/bash: /home/gaurang/miniconda3/lib/libtinfo.so.6: no version information available (required by /bin/bash)\n",
            "Requirement already satisfied: pandas in ./env/lib/python3.10/site-packages (1.5.1)\n",
            "Requirement already satisfied: pytz>=2020.1 in ./env/lib/python3.10/site-packages (from pandas) (2022.6)\n",
            "Requirement already satisfied: numpy>=1.21.0 in ./env/lib/python3.10/site-packages (from pandas) (1.23.4)\n",
            "Requirement already satisfied: python-dateutil>=2.8.1 in ./env/lib/python3.10/site-packages (from pandas) (2.8.2)\n",
            "Requirement already satisfied: six>=1.5 in ./env/lib/python3.10/site-packages (from python-dateutil>=2.8.1->pandas) (1.16.0)\n",
            "\n",
            "\u001b[1m[\u001b[0m\u001b[34;49mnotice\u001b[0m\u001b[1;39;49m]\u001b[0m\u001b[39;49m A new release of pip available: \u001b[0m\u001b[31;49m22.3\u001b[0m\u001b[39;49m -> \u001b[0m\u001b[32;49m22.3.1\u001b[0m\n",
            "\u001b[1m[\u001b[0m\u001b[34;49mnotice\u001b[0m\u001b[1;39;49m]\u001b[0m\u001b[39;49m To update, run: \u001b[0m\u001b[32;49mpip install --upgrade pip\u001b[0m\n",
            "/bin/bash: /home/gaurang/miniconda3/lib/libtinfo.so.6: no version information available (required by /bin/bash)\n",
            "Requirement already satisfied: numpy in ./env/lib/python3.10/site-packages (1.23.4)\n",
            "\n",
            "\u001b[1m[\u001b[0m\u001b[34;49mnotice\u001b[0m\u001b[1;39;49m]\u001b[0m\u001b[39;49m A new release of pip available: \u001b[0m\u001b[31;49m22.3\u001b[0m\u001b[39;49m -> \u001b[0m\u001b[32;49m22.3.1\u001b[0m\n",
            "\u001b[1m[\u001b[0m\u001b[34;49mnotice\u001b[0m\u001b[1;39;49m]\u001b[0m\u001b[39;49m To update, run: \u001b[0m\u001b[32;49mpip install --upgrade pip\u001b[0m\n",
            "/bin/bash: /home/gaurang/miniconda3/lib/libtinfo.so.6: no version information available (required by /bin/bash)\n",
            "Requirement already satisfied: plotly in ./env/lib/python3.10/site-packages (5.11.0)\n",
            "Requirement already satisfied: tenacity>=6.2.0 in ./env/lib/python3.10/site-packages (from plotly) (8.1.0)\n",
            "\n",
            "\u001b[1m[\u001b[0m\u001b[34;49mnotice\u001b[0m\u001b[1;39;49m]\u001b[0m\u001b[39;49m A new release of pip available: \u001b[0m\u001b[31;49m22.3\u001b[0m\u001b[39;49m -> \u001b[0m\u001b[32;49m22.3.1\u001b[0m\n",
            "\u001b[1m[\u001b[0m\u001b[34;49mnotice\u001b[0m\u001b[1;39;49m]\u001b[0m\u001b[39;49m To update, run: \u001b[0m\u001b[32;49mpip install --upgrade pip\u001b[0m\n",
            "/bin/bash: /home/gaurang/miniconda3/lib/libtinfo.so.6: no version information available (required by /bin/bash)\n",
            "Requirement already satisfied: nbformat in ./env/lib/python3.10/site-packages (5.7.0)\n",
            "Requirement already satisfied: jupyter-core in ./env/lib/python3.10/site-packages (from nbformat) (4.11.2)\n",
            "Requirement already satisfied: fastjsonschema in ./env/lib/python3.10/site-packages (from nbformat) (2.16.2)\n",
            "Requirement already satisfied: traitlets>=5.1 in ./env/lib/python3.10/site-packages (from nbformat) (5.5.0)\n",
            "Requirement already satisfied: jsonschema>=2.6 in ./env/lib/python3.10/site-packages (from nbformat) (4.17.0)\n",
            "Requirement already satisfied: pyrsistent!=0.17.0,!=0.17.1,!=0.17.2,>=0.14.0 in ./env/lib/python3.10/site-packages (from jsonschema>=2.6->nbformat) (0.19.2)\n",
            "Requirement already satisfied: attrs>=17.4.0 in ./env/lib/python3.10/site-packages (from jsonschema>=2.6->nbformat) (22.1.0)\n",
            "\n",
            "\u001b[1m[\u001b[0m\u001b[34;49mnotice\u001b[0m\u001b[1;39;49m]\u001b[0m\u001b[39;49m A new release of pip available: \u001b[0m\u001b[31;49m22.3\u001b[0m\u001b[39;49m -> \u001b[0m\u001b[32;49m22.3.1\u001b[0m\n",
            "\u001b[1m[\u001b[0m\u001b[34;49mnotice\u001b[0m\u001b[1;39;49m]\u001b[0m\u001b[39;49m To update, run: \u001b[0m\u001b[32;49mpip install --upgrade pip\u001b[0m\n",
            "/bin/bash: /home/gaurang/miniconda3/lib/libtinfo.so.6: no version information available (required by /bin/bash)\n",
            "Requirement already satisfied: ipykernel in ./env/lib/python3.10/site-packages (6.17.0)\n",
            "Requirement already satisfied: packaging in ./env/lib/python3.10/site-packages (from ipykernel) (21.3)\n",
            "Requirement already satisfied: tornado>=6.1 in ./env/lib/python3.10/site-packages (from ipykernel) (6.2)\n",
            "Requirement already satisfied: nest-asyncio in ./env/lib/python3.10/site-packages (from ipykernel) (1.5.6)\n",
            "Requirement already satisfied: psutil in ./env/lib/python3.10/site-packages (from ipykernel) (5.9.3)\n",
            "Requirement already satisfied: matplotlib-inline>=0.1 in ./env/lib/python3.10/site-packages (from ipykernel) (0.1.6)\n",
            "Requirement already satisfied: jupyter-client>=6.1.12 in ./env/lib/python3.10/site-packages (from ipykernel) (7.4.4)\n",
            "Requirement already satisfied: debugpy>=1.0 in ./env/lib/python3.10/site-packages (from ipykernel) (1.6.3)\n",
            "Requirement already satisfied: pyzmq>=17 in ./env/lib/python3.10/site-packages (from ipykernel) (24.0.1)\n",
            "Requirement already satisfied: traitlets>=5.1.0 in ./env/lib/python3.10/site-packages (from ipykernel) (5.5.0)\n",
            "Requirement already satisfied: ipython>=7.23.1 in ./env/lib/python3.10/site-packages (from ipykernel) (8.6.0)\n",
            "Requirement already satisfied: pygments>=2.4.0 in ./env/lib/python3.10/site-packages (from ipython>=7.23.1->ipykernel) (2.13.0)\n",
            "Requirement already satisfied: stack-data in ./env/lib/python3.10/site-packages (from ipython>=7.23.1->ipykernel) (0.6.0)\n",
            "Requirement already satisfied: decorator in ./env/lib/python3.10/site-packages (from ipython>=7.23.1->ipykernel) (5.1.1)\n",
            "Requirement already satisfied: pickleshare in ./env/lib/python3.10/site-packages (from ipython>=7.23.1->ipykernel) (0.7.5)\n",
            "Requirement already satisfied: pexpect>4.3 in ./env/lib/python3.10/site-packages (from ipython>=7.23.1->ipykernel) (4.8.0)\n",
            "Requirement already satisfied: jedi>=0.16 in ./env/lib/python3.10/site-packages (from ipython>=7.23.1->ipykernel) (0.18.1)\n",
            "Requirement already satisfied: backcall in ./env/lib/python3.10/site-packages (from ipython>=7.23.1->ipykernel) (0.2.0)\n",
            "Requirement already satisfied: prompt-toolkit<3.1.0,>3.0.1 in ./env/lib/python3.10/site-packages (from ipython>=7.23.1->ipykernel) (3.0.31)\n",
            "Requirement already satisfied: jupyter-core>=4.9.2 in ./env/lib/python3.10/site-packages (from jupyter-client>=6.1.12->ipykernel) (4.11.2)\n",
            "Requirement already satisfied: python-dateutil>=2.8.2 in ./env/lib/python3.10/site-packages (from jupyter-client>=6.1.12->ipykernel) (2.8.2)\n",
            "Requirement already satisfied: entrypoints in ./env/lib/python3.10/site-packages (from jupyter-client>=6.1.12->ipykernel) (0.4)\n",
            "Requirement already satisfied: pyparsing!=3.0.5,>=2.0.2 in ./env/lib/python3.10/site-packages (from packaging->ipykernel) (3.0.9)\n",
            "Requirement already satisfied: parso<0.9.0,>=0.8.0 in ./env/lib/python3.10/site-packages (from jedi>=0.16->ipython>=7.23.1->ipykernel) (0.8.3)\n",
            "Requirement already satisfied: ptyprocess>=0.5 in ./env/lib/python3.10/site-packages (from pexpect>4.3->ipython>=7.23.1->ipykernel) (0.7.0)\n",
            "Requirement already satisfied: wcwidth in ./env/lib/python3.10/site-packages (from prompt-toolkit<3.1.0,>3.0.1->ipython>=7.23.1->ipykernel) (0.2.5)\n",
            "Requirement already satisfied: six>=1.5 in ./env/lib/python3.10/site-packages (from python-dateutil>=2.8.2->jupyter-client>=6.1.12->ipykernel) (1.16.0)\n",
            "Requirement already satisfied: executing>=1.2.0 in ./env/lib/python3.10/site-packages (from stack-data->ipython>=7.23.1->ipykernel) (1.2.0)\n",
            "Requirement already satisfied: asttokens>=2.1.0 in ./env/lib/python3.10/site-packages (from stack-data->ipython>=7.23.1->ipykernel) (2.1.0)\n",
            "Requirement already satisfied: pure-eval in ./env/lib/python3.10/site-packages (from stack-data->ipython>=7.23.1->ipykernel) (0.2.2)\n",
            "\n",
            "\u001b[1m[\u001b[0m\u001b[34;49mnotice\u001b[0m\u001b[1;39;49m]\u001b[0m\u001b[39;49m A new release of pip available: \u001b[0m\u001b[31;49m22.3\u001b[0m\u001b[39;49m -> \u001b[0m\u001b[32;49m22.3.1\u001b[0m\n",
            "\u001b[1m[\u001b[0m\u001b[34;49mnotice\u001b[0m\u001b[1;39;49m]\u001b[0m\u001b[39;49m To update, run: \u001b[0m\u001b[32;49mpip install --upgrade pip\u001b[0m\n",
            "/bin/bash: /home/gaurang/miniconda3/lib/libtinfo.so.6: no version information available (required by /bin/bash)\n",
            "Requirement already satisfied: matplotlip in ./env/lib/python3.10/site-packages (0.2)\n",
            "\n",
            "\u001b[1m[\u001b[0m\u001b[34;49mnotice\u001b[0m\u001b[1;39;49m]\u001b[0m\u001b[39;49m A new release of pip available: \u001b[0m\u001b[31;49m22.3\u001b[0m\u001b[39;49m -> \u001b[0m\u001b[32;49m22.3.1\u001b[0m\n",
            "\u001b[1m[\u001b[0m\u001b[34;49mnotice\u001b[0m\u001b[1;39;49m]\u001b[0m\u001b[39;49m To update, run: \u001b[0m\u001b[32;49mpip install --upgrade pip\u001b[0m\n",
            "/bin/bash: /home/gaurang/miniconda3/lib/libtinfo.so.6: no version information available (required by /bin/bash)\n",
            "Requirement already satisfied: wordcloud in ./env/lib/python3.10/site-packages (1.8.2.2)\n",
            "Requirement already satisfied: matplotlib in ./env/lib/python3.10/site-packages (from wordcloud) (3.6.0)\n",
            "Requirement already satisfied: pillow in ./env/lib/python3.10/site-packages (from wordcloud) (9.3.0)\n",
            "Requirement already satisfied: numpy>=1.6.1 in ./env/lib/python3.10/site-packages (from wordcloud) (1.23.4)\n",
            "Requirement already satisfied: kiwisolver>=1.0.1 in ./env/lib/python3.10/site-packages (from matplotlib->wordcloud) (1.4.4)\n",
            "Requirement already satisfied: python-dateutil>=2.7 in ./env/lib/python3.10/site-packages (from matplotlib->wordcloud) (2.8.2)\n",
            "Requirement already satisfied: cycler>=0.10 in ./env/lib/python3.10/site-packages (from matplotlib->wordcloud) (0.11.0)\n",
            "Requirement already satisfied: packaging>=20.0 in ./env/lib/python3.10/site-packages (from matplotlib->wordcloud) (21.3)\n",
            "Requirement already satisfied: contourpy>=1.0.1 in ./env/lib/python3.10/site-packages (from matplotlib->wordcloud) (1.0.6)\n",
            "Requirement already satisfied: fonttools>=4.22.0 in ./env/lib/python3.10/site-packages (from matplotlib->wordcloud) (4.38.0)\n",
            "Requirement already satisfied: pyparsing>=2.2.1 in ./env/lib/python3.10/site-packages (from matplotlib->wordcloud) (3.0.9)\n",
            "Requirement already satisfied: six>=1.5 in ./env/lib/python3.10/site-packages (from python-dateutil>=2.7->matplotlib->wordcloud) (1.16.0)\n",
            "\n",
            "\u001b[1m[\u001b[0m\u001b[34;49mnotice\u001b[0m\u001b[1;39;49m]\u001b[0m\u001b[39;49m A new release of pip available: \u001b[0m\u001b[31;49m22.3\u001b[0m\u001b[39;49m -> \u001b[0m\u001b[32;49m22.3.1\u001b[0m\n",
            "\u001b[1m[\u001b[0m\u001b[34;49mnotice\u001b[0m\u001b[1;39;49m]\u001b[0m\u001b[39;49m To update, run: \u001b[0m\u001b[32;49mpip install --upgrade pip\u001b[0m\n"
          ]
        }
      ],
      "source": [
        "! pip install pandas\n",
        "! pip install numpy\n",
        "! pip install plotly\n",
        "! pip install nbformat\n",
        "! pip install ipykernel\n",
        "! pip install matplotlip\n",
        "! pip install wordcloud"
      ]
    },
    {
      "cell_type": "markdown",
      "metadata": {},
      "source": [
        "## Import Libraries"
      ]
    },
    {
      "cell_type": "code",
      "execution_count": 2,
      "metadata": {},
      "outputs": [],
      "source": [
        "import json\n",
        "\n",
        "import pandas as pd\n",
        "import numpy as np\n",
        "import plotly.express as px\n",
        "import plotly.graph_objects as go"
      ]
    },
    {
      "cell_type": "markdown",
      "metadata": {},
      "source": [
        "## Read Data Set\n",
        "* We have scrapped data from `foxnews.com` using `scrapping.ipynb` notebook. \n",
        "* The scrapped data is written to `fox_data.csv`."
      ]
    },
    {
      "cell_type": "code",
      "execution_count": 3,
      "metadata": {},
      "outputs": [],
      "source": [
        "## Importing the data\n",
        "data = pd.read_csv(\"./data/fox_data.csv\")"
      ]
    },
    {
      "cell_type": "markdown",
      "metadata": {},
      "source": [
        "## Explore Data"
      ]
    },
    {
      "cell_type": "code",
      "execution_count": 4,
      "metadata": {},
      "outputs": [
        {
          "data": {
            "text/html": [
              "<div>\n",
              "<style scoped>\n",
              "    .dataframe tbody tr th:only-of-type {\n",
              "        vertical-align: middle;\n",
              "    }\n",
              "\n",
              "    .dataframe tbody tr th {\n",
              "        vertical-align: top;\n",
              "    }\n",
              "\n",
              "    .dataframe thead th {\n",
              "        text-align: right;\n",
              "    }\n",
              "</style>\n",
              "<table border=\"1\" class=\"dataframe\">\n",
              "  <thead>\n",
              "    <tr style=\"text-align: right;\">\n",
              "      <th></th>\n",
              "      <th>imageUrl</th>\n",
              "      <th>title</th>\n",
              "      <th>description</th>\n",
              "      <th>url</th>\n",
              "      <th>publicationDate</th>\n",
              "      <th>lastPublishedDate</th>\n",
              "      <th>category</th>\n",
              "      <th>isBreaking</th>\n",
              "      <th>isLive</th>\n",
              "      <th>duration</th>\n",
              "      <th>authors</th>\n",
              "      <th>text</th>\n",
              "    </tr>\n",
              "  </thead>\n",
              "  <tbody>\n",
              "    <tr>\n",
              "      <th>0</th>\n",
              "      <td>https://static.foxnews.com/foxnews.com/content...</td>\n",
              "      <td>Hassan and Bolduc trade fire in final showdown...</td>\n",
              "      <td>A bystander took a swing at Republican Senate ...</td>\n",
              "      <td>https://www.foxnews.com/politics/hassan-bolduc...</td>\n",
              "      <td>2022-11-02 22:47:00-04:00</td>\n",
              "      <td>2022-11-02T22:47:00-04:00</td>\n",
              "      <td>{'name': 'New Hampshire', 'url': '/category/us...</td>\n",
              "      <td>False</td>\n",
              "      <td>False</td>\n",
              "      <td>NaN</td>\n",
              "      <td>[{'name': 'Paul Steinhauser'}]</td>\n",
              "      <td>Former governor and first term Democratic Sen....</td>\n",
              "    </tr>\n",
              "    <tr>\n",
              "      <th>1</th>\n",
              "      <td>https://a57.foxnews.com/static.foxnews.com/fox...</td>\n",
              "      <td>Biden suggests voting for Republicans is a thr...</td>\n",
              "      <td>President Biden said the only way to repudiate...</td>\n",
              "      <td>https://www.foxnews.com/politics/biden-speech</td>\n",
              "      <td>2022-11-02 19:35:10-04:00</td>\n",
              "      <td>2022-11-02T22:15:46-04:00</td>\n",
              "      <td>{'name': 'Joe Biden', 'url': '/category/person...</td>\n",
              "      <td>False</td>\n",
              "      <td>False</td>\n",
              "      <td>NaN</td>\n",
              "      <td>[{'name': 'Haris Alic'}]</td>\n",
              "      <td>President Biden urged Democrats on Wednesday t...</td>\n",
              "    </tr>\n",
              "    <tr>\n",
              "      <th>2</th>\n",
              "      <td>https://a57.foxnews.com/static.foxnews.com/fox...</td>\n",
              "      <td>NYC's Naked Cowboy makes endorsement for gov w...</td>\n",
              "      <td>New York City's Naked Cowboy endorsed Lee Zeld...</td>\n",
              "      <td>https://www.foxnews.com/politics/nyc-naked-cow...</td>\n",
              "      <td>2022-11-02 21:58:25-04:00</td>\n",
              "      <td>2022-11-02T21:58:25-04:00</td>\n",
              "      <td>{'name': 'New York City', 'url': '/category/us...</td>\n",
              "      <td>False</td>\n",
              "      <td>False</td>\n",
              "      <td>NaN</td>\n",
              "      <td>[{'name': 'Adam Sabes'}]</td>\n",
              "      <td>The famous Naked Cowboy in New York City's Tim...</td>\n",
              "    </tr>\n",
              "    <tr>\n",
              "      <th>3</th>\n",
              "      <td>https://static.foxnews.com/foxnews.com/content...</td>\n",
              "      <td>Hassan and Bolduc trade fire in final showdown...</td>\n",
              "      <td>A bystander took a swing at Republican Senate ...</td>\n",
              "      <td>https://www.foxnews.com/politics/hassan-bolduc...</td>\n",
              "      <td>2022-11-02 22:47:00-04:00</td>\n",
              "      <td>2022-11-02T22:47:00-04:00</td>\n",
              "      <td>{'name': 'New Hampshire', 'url': '/category/us...</td>\n",
              "      <td>False</td>\n",
              "      <td>False</td>\n",
              "      <td>NaN</td>\n",
              "      <td>[{'name': 'Paul Steinhauser'}]</td>\n",
              "      <td>Former governor and first term Democratic Sen....</td>\n",
              "    </tr>\n",
              "    <tr>\n",
              "      <th>4</th>\n",
              "      <td>https://a57.foxnews.com/static.foxnews.com/fox...</td>\n",
              "      <td>Biden suggests voting for Republicans is a thr...</td>\n",
              "      <td>President Biden said the only way to repudiate...</td>\n",
              "      <td>https://www.foxnews.com/politics/biden-speech</td>\n",
              "      <td>2022-11-02 19:35:10-04:00</td>\n",
              "      <td>2022-11-02T22:15:46-04:00</td>\n",
              "      <td>{'name': 'Joe Biden', 'url': '/category/person...</td>\n",
              "      <td>False</td>\n",
              "      <td>False</td>\n",
              "      <td>NaN</td>\n",
              "      <td>[{'name': 'Haris Alic'}]</td>\n",
              "      <td>President Biden urged Democrats on Wednesday t...</td>\n",
              "    </tr>\n",
              "  </tbody>\n",
              "</table>\n",
              "</div>"
            ],
            "text/plain": [
              "                                            imageUrl  \\\n",
              "0  https://static.foxnews.com/foxnews.com/content...   \n",
              "1  https://a57.foxnews.com/static.foxnews.com/fox...   \n",
              "2  https://a57.foxnews.com/static.foxnews.com/fox...   \n",
              "3  https://static.foxnews.com/foxnews.com/content...   \n",
              "4  https://a57.foxnews.com/static.foxnews.com/fox...   \n",
              "\n",
              "                                               title  \\\n",
              "0  Hassan and Bolduc trade fire in final showdown...   \n",
              "1  Biden suggests voting for Republicans is a thr...   \n",
              "2  NYC's Naked Cowboy makes endorsement for gov w...   \n",
              "3  Hassan and Bolduc trade fire in final showdown...   \n",
              "4  Biden suggests voting for Republicans is a thr...   \n",
              "\n",
              "                                         description  \\\n",
              "0  A bystander took a swing at Republican Senate ...   \n",
              "1  President Biden said the only way to repudiate...   \n",
              "2  New York City's Naked Cowboy endorsed Lee Zeld...   \n",
              "3  A bystander took a swing at Republican Senate ...   \n",
              "4  President Biden said the only way to repudiate...   \n",
              "\n",
              "                                                 url  \\\n",
              "0  https://www.foxnews.com/politics/hassan-bolduc...   \n",
              "1      https://www.foxnews.com/politics/biden-speech   \n",
              "2  https://www.foxnews.com/politics/nyc-naked-cow...   \n",
              "3  https://www.foxnews.com/politics/hassan-bolduc...   \n",
              "4      https://www.foxnews.com/politics/biden-speech   \n",
              "\n",
              "             publicationDate          lastPublishedDate  \\\n",
              "0  2022-11-02 22:47:00-04:00  2022-11-02T22:47:00-04:00   \n",
              "1  2022-11-02 19:35:10-04:00  2022-11-02T22:15:46-04:00   \n",
              "2  2022-11-02 21:58:25-04:00  2022-11-02T21:58:25-04:00   \n",
              "3  2022-11-02 22:47:00-04:00  2022-11-02T22:47:00-04:00   \n",
              "4  2022-11-02 19:35:10-04:00  2022-11-02T22:15:46-04:00   \n",
              "\n",
              "                                            category  isBreaking  isLive  \\\n",
              "0  {'name': 'New Hampshire', 'url': '/category/us...       False   False   \n",
              "1  {'name': 'Joe Biden', 'url': '/category/person...       False   False   \n",
              "2  {'name': 'New York City', 'url': '/category/us...       False   False   \n",
              "3  {'name': 'New Hampshire', 'url': '/category/us...       False   False   \n",
              "4  {'name': 'Joe Biden', 'url': '/category/person...       False   False   \n",
              "\n",
              "   duration                         authors  \\\n",
              "0       NaN  [{'name': 'Paul Steinhauser'}]   \n",
              "1       NaN        [{'name': 'Haris Alic'}]   \n",
              "2       NaN        [{'name': 'Adam Sabes'}]   \n",
              "3       NaN  [{'name': 'Paul Steinhauser'}]   \n",
              "4       NaN        [{'name': 'Haris Alic'}]   \n",
              "\n",
              "                                                text  \n",
              "0  Former governor and first term Democratic Sen....  \n",
              "1  President Biden urged Democrats on Wednesday t...  \n",
              "2  The famous Naked Cowboy in New York City's Tim...  \n",
              "3  Former governor and first term Democratic Sen....  \n",
              "4  President Biden urged Democrats on Wednesday t...  "
            ]
          },
          "execution_count": 4,
          "metadata": {},
          "output_type": "execute_result"
        }
      ],
      "source": [
        "## lets see the data\n",
        "data.head()"
      ]
    },
    {
      "cell_type": "code",
      "execution_count": 5,
      "metadata": {},
      "outputs": [
        {
          "data": {
            "text/plain": [
              "(39787, 12)"
            ]
          },
          "execution_count": 5,
          "metadata": {},
          "output_type": "execute_result"
        }
      ],
      "source": [
        "## Lets look at the shape of the data\n",
        "data.shape"
      ]
    },
    {
      "cell_type": "code",
      "execution_count": 6,
      "metadata": {},
      "outputs": [
        {
          "data": {
            "text/html": [
              "<div>\n",
              "<style scoped>\n",
              "    .dataframe tbody tr th:only-of-type {\n",
              "        vertical-align: middle;\n",
              "    }\n",
              "\n",
              "    .dataframe tbody tr th {\n",
              "        vertical-align: top;\n",
              "    }\n",
              "\n",
              "    .dataframe thead th {\n",
              "        text-align: right;\n",
              "    }\n",
              "</style>\n",
              "<table border=\"1\" class=\"dataframe\">\n",
              "  <thead>\n",
              "    <tr style=\"text-align: right;\">\n",
              "      <th></th>\n",
              "      <th>DataType</th>\n",
              "    </tr>\n",
              "  </thead>\n",
              "  <tbody>\n",
              "    <tr>\n",
              "      <th>imageUrl</th>\n",
              "      <td>object</td>\n",
              "    </tr>\n",
              "    <tr>\n",
              "      <th>title</th>\n",
              "      <td>object</td>\n",
              "    </tr>\n",
              "    <tr>\n",
              "      <th>description</th>\n",
              "      <td>object</td>\n",
              "    </tr>\n",
              "    <tr>\n",
              "      <th>url</th>\n",
              "      <td>object</td>\n",
              "    </tr>\n",
              "    <tr>\n",
              "      <th>publicationDate</th>\n",
              "      <td>object</td>\n",
              "    </tr>\n",
              "    <tr>\n",
              "      <th>lastPublishedDate</th>\n",
              "      <td>object</td>\n",
              "    </tr>\n",
              "    <tr>\n",
              "      <th>category</th>\n",
              "      <td>object</td>\n",
              "    </tr>\n",
              "    <tr>\n",
              "      <th>isBreaking</th>\n",
              "      <td>bool</td>\n",
              "    </tr>\n",
              "    <tr>\n",
              "      <th>isLive</th>\n",
              "      <td>bool</td>\n",
              "    </tr>\n",
              "    <tr>\n",
              "      <th>duration</th>\n",
              "      <td>float64</td>\n",
              "    </tr>\n",
              "    <tr>\n",
              "      <th>authors</th>\n",
              "      <td>object</td>\n",
              "    </tr>\n",
              "    <tr>\n",
              "      <th>text</th>\n",
              "      <td>object</td>\n",
              "    </tr>\n",
              "  </tbody>\n",
              "</table>\n",
              "</div>"
            ],
            "text/plain": [
              "                  DataType\n",
              "imageUrl            object\n",
              "title               object\n",
              "description         object\n",
              "url                 object\n",
              "publicationDate     object\n",
              "lastPublishedDate   object\n",
              "category            object\n",
              "isBreaking            bool\n",
              "isLive                bool\n",
              "duration           float64\n",
              "authors             object\n",
              "text                object"
            ]
          },
          "execution_count": 6,
          "metadata": {},
          "output_type": "execute_result"
        }
      ],
      "source": [
        "## Lets look at the data types of the columns\n",
        "# read character column\n",
        "\n",
        "pd.DataFrame(data.dtypes, columns=['DataType'])"
      ]
    },
    {
      "cell_type": "markdown",
      "metadata": {},
      "source": [
        "##### Notes\n",
        "* For our usecase of `topic modeling` and `sentiment analysis` I think we only need `url`, `text`, `authors` and `title`. We can create a new minified data set with just these columns for more efficiency and write to different files. \n",
        "* `authors` column is an array of `json` with `name` property. We should change it to just the name for simplicity. \n",
        "* Some of the columns like `isBreaking`, `isLive` and `duration` might not be applicable here since this is text content. \n",
        "* We'll also need to convert timestamps to datetime column for EDA. \n",
        "* We'll still do a EDA on all the columns to see if there are any interesting insights. \n",
        "* We'll also change the column names to follow naming conventions and best practises. "
      ]
    },
    {
      "cell_type": "markdown",
      "metadata": {},
      "source": [
        "### Rename Columns"
      ]
    },
    {
      "cell_type": "code",
      "execution_count": 7,
      "metadata": {},
      "outputs": [
        {
          "data": {
            "text/html": [
              "<div>\n",
              "<style scoped>\n",
              "    .dataframe tbody tr th:only-of-type {\n",
              "        vertical-align: middle;\n",
              "    }\n",
              "\n",
              "    .dataframe tbody tr th {\n",
              "        vertical-align: top;\n",
              "    }\n",
              "\n",
              "    .dataframe thead th {\n",
              "        text-align: right;\n",
              "    }\n",
              "</style>\n",
              "<table border=\"1\" class=\"dataframe\">\n",
              "  <thead>\n",
              "    <tr style=\"text-align: right;\">\n",
              "      <th></th>\n",
              "      <th>image_url</th>\n",
              "      <th>title</th>\n",
              "      <th>description</th>\n",
              "      <th>url</th>\n",
              "      <th>publication_date</th>\n",
              "      <th>last_published_date</th>\n",
              "      <th>category</th>\n",
              "      <th>is_breaking</th>\n",
              "      <th>is_live</th>\n",
              "      <th>duration</th>\n",
              "      <th>authors</th>\n",
              "      <th>text</th>\n",
              "    </tr>\n",
              "  </thead>\n",
              "  <tbody>\n",
              "    <tr>\n",
              "      <th>0</th>\n",
              "      <td>https://static.foxnews.com/foxnews.com/content...</td>\n",
              "      <td>Hassan and Bolduc trade fire in final showdown...</td>\n",
              "      <td>A bystander took a swing at Republican Senate ...</td>\n",
              "      <td>https://www.foxnews.com/politics/hassan-bolduc...</td>\n",
              "      <td>2022-11-02 22:47:00-04:00</td>\n",
              "      <td>2022-11-02T22:47:00-04:00</td>\n",
              "      <td>{'name': 'New Hampshire', 'url': '/category/us...</td>\n",
              "      <td>False</td>\n",
              "      <td>False</td>\n",
              "      <td>NaN</td>\n",
              "      <td>[{'name': 'Paul Steinhauser'}]</td>\n",
              "      <td>Former governor and first term Democratic Sen....</td>\n",
              "    </tr>\n",
              "    <tr>\n",
              "      <th>1</th>\n",
              "      <td>https://a57.foxnews.com/static.foxnews.com/fox...</td>\n",
              "      <td>Biden suggests voting for Republicans is a thr...</td>\n",
              "      <td>President Biden said the only way to repudiate...</td>\n",
              "      <td>https://www.foxnews.com/politics/biden-speech</td>\n",
              "      <td>2022-11-02 19:35:10-04:00</td>\n",
              "      <td>2022-11-02T22:15:46-04:00</td>\n",
              "      <td>{'name': 'Joe Biden', 'url': '/category/person...</td>\n",
              "      <td>False</td>\n",
              "      <td>False</td>\n",
              "      <td>NaN</td>\n",
              "      <td>[{'name': 'Haris Alic'}]</td>\n",
              "      <td>President Biden urged Democrats on Wednesday t...</td>\n",
              "    </tr>\n",
              "    <tr>\n",
              "      <th>2</th>\n",
              "      <td>https://a57.foxnews.com/static.foxnews.com/fox...</td>\n",
              "      <td>NYC's Naked Cowboy makes endorsement for gov w...</td>\n",
              "      <td>New York City's Naked Cowboy endorsed Lee Zeld...</td>\n",
              "      <td>https://www.foxnews.com/politics/nyc-naked-cow...</td>\n",
              "      <td>2022-11-02 21:58:25-04:00</td>\n",
              "      <td>2022-11-02T21:58:25-04:00</td>\n",
              "      <td>{'name': 'New York City', 'url': '/category/us...</td>\n",
              "      <td>False</td>\n",
              "      <td>False</td>\n",
              "      <td>NaN</td>\n",
              "      <td>[{'name': 'Adam Sabes'}]</td>\n",
              "      <td>The famous Naked Cowboy in New York City's Tim...</td>\n",
              "    </tr>\n",
              "    <tr>\n",
              "      <th>3</th>\n",
              "      <td>https://static.foxnews.com/foxnews.com/content...</td>\n",
              "      <td>Hassan and Bolduc trade fire in final showdown...</td>\n",
              "      <td>A bystander took a swing at Republican Senate ...</td>\n",
              "      <td>https://www.foxnews.com/politics/hassan-bolduc...</td>\n",
              "      <td>2022-11-02 22:47:00-04:00</td>\n",
              "      <td>2022-11-02T22:47:00-04:00</td>\n",
              "      <td>{'name': 'New Hampshire', 'url': '/category/us...</td>\n",
              "      <td>False</td>\n",
              "      <td>False</td>\n",
              "      <td>NaN</td>\n",
              "      <td>[{'name': 'Paul Steinhauser'}]</td>\n",
              "      <td>Former governor and first term Democratic Sen....</td>\n",
              "    </tr>\n",
              "    <tr>\n",
              "      <th>4</th>\n",
              "      <td>https://a57.foxnews.com/static.foxnews.com/fox...</td>\n",
              "      <td>Biden suggests voting for Republicans is a thr...</td>\n",
              "      <td>President Biden said the only way to repudiate...</td>\n",
              "      <td>https://www.foxnews.com/politics/biden-speech</td>\n",
              "      <td>2022-11-02 19:35:10-04:00</td>\n",
              "      <td>2022-11-02T22:15:46-04:00</td>\n",
              "      <td>{'name': 'Joe Biden', 'url': '/category/person...</td>\n",
              "      <td>False</td>\n",
              "      <td>False</td>\n",
              "      <td>NaN</td>\n",
              "      <td>[{'name': 'Haris Alic'}]</td>\n",
              "      <td>President Biden urged Democrats on Wednesday t...</td>\n",
              "    </tr>\n",
              "  </tbody>\n",
              "</table>\n",
              "</div>"
            ],
            "text/plain": [
              "                                           image_url  \\\n",
              "0  https://static.foxnews.com/foxnews.com/content...   \n",
              "1  https://a57.foxnews.com/static.foxnews.com/fox...   \n",
              "2  https://a57.foxnews.com/static.foxnews.com/fox...   \n",
              "3  https://static.foxnews.com/foxnews.com/content...   \n",
              "4  https://a57.foxnews.com/static.foxnews.com/fox...   \n",
              "\n",
              "                                               title  \\\n",
              "0  Hassan and Bolduc trade fire in final showdown...   \n",
              "1  Biden suggests voting for Republicans is a thr...   \n",
              "2  NYC's Naked Cowboy makes endorsement for gov w...   \n",
              "3  Hassan and Bolduc trade fire in final showdown...   \n",
              "4  Biden suggests voting for Republicans is a thr...   \n",
              "\n",
              "                                         description  \\\n",
              "0  A bystander took a swing at Republican Senate ...   \n",
              "1  President Biden said the only way to repudiate...   \n",
              "2  New York City's Naked Cowboy endorsed Lee Zeld...   \n",
              "3  A bystander took a swing at Republican Senate ...   \n",
              "4  President Biden said the only way to repudiate...   \n",
              "\n",
              "                                                 url  \\\n",
              "0  https://www.foxnews.com/politics/hassan-bolduc...   \n",
              "1      https://www.foxnews.com/politics/biden-speech   \n",
              "2  https://www.foxnews.com/politics/nyc-naked-cow...   \n",
              "3  https://www.foxnews.com/politics/hassan-bolduc...   \n",
              "4      https://www.foxnews.com/politics/biden-speech   \n",
              "\n",
              "            publication_date        last_published_date  \\\n",
              "0  2022-11-02 22:47:00-04:00  2022-11-02T22:47:00-04:00   \n",
              "1  2022-11-02 19:35:10-04:00  2022-11-02T22:15:46-04:00   \n",
              "2  2022-11-02 21:58:25-04:00  2022-11-02T21:58:25-04:00   \n",
              "3  2022-11-02 22:47:00-04:00  2022-11-02T22:47:00-04:00   \n",
              "4  2022-11-02 19:35:10-04:00  2022-11-02T22:15:46-04:00   \n",
              "\n",
              "                                            category  is_breaking  is_live  \\\n",
              "0  {'name': 'New Hampshire', 'url': '/category/us...        False    False   \n",
              "1  {'name': 'Joe Biden', 'url': '/category/person...        False    False   \n",
              "2  {'name': 'New York City', 'url': '/category/us...        False    False   \n",
              "3  {'name': 'New Hampshire', 'url': '/category/us...        False    False   \n",
              "4  {'name': 'Joe Biden', 'url': '/category/person...        False    False   \n",
              "\n",
              "   duration                         authors  \\\n",
              "0       NaN  [{'name': 'Paul Steinhauser'}]   \n",
              "1       NaN        [{'name': 'Haris Alic'}]   \n",
              "2       NaN        [{'name': 'Adam Sabes'}]   \n",
              "3       NaN  [{'name': 'Paul Steinhauser'}]   \n",
              "4       NaN        [{'name': 'Haris Alic'}]   \n",
              "\n",
              "                                                text  \n",
              "0  Former governor and first term Democratic Sen....  \n",
              "1  President Biden urged Democrats on Wednesday t...  \n",
              "2  The famous Naked Cowboy in New York City's Tim...  \n",
              "3  Former governor and first term Democratic Sen....  \n",
              "4  President Biden urged Democrats on Wednesday t...  "
            ]
          },
          "execution_count": 7,
          "metadata": {},
          "output_type": "execute_result"
        }
      ],
      "source": [
        "data.rename(columns={\n",
        "     'Unnamed: 0': 'id',\n",
        "     'imageUrl': 'image_url',\n",
        "     'publicationDate': 'publication_date',\n",
        "     'lastPublishedDate': 'last_published_date',\n",
        "     'isBreaking': 'is_breaking',\n",
        "     'isLive': 'is_live',     \n",
        "}, inplace=True)\n",
        "\n",
        "data.head()"
      ]
    },
    {
      "cell_type": "markdown",
      "metadata": {},
      "source": [
        "### Convert to `datetime`"
      ]
    },
    {
      "cell_type": "code",
      "execution_count": 31,
      "metadata": {},
      "outputs": [],
      "source": [
        "## Changing column types for `publication_date` and `last_published_date`\n",
        "\n",
        "data[\"last_published_date\"] = pd.to_datetime(data[\"last_published_date\"])\n",
        "data[\"published_day\"] = data[\"last_published_date\"].dt.day\n",
        "data[\"published_month\"] = data[\"last_published_date\"].dt.month"
      ]
    },
    {
      "cell_type": "code",
      "execution_count": 9,
      "metadata": {},
      "outputs": [
        {
          "data": {
            "text/html": [
              "<div>\n",
              "<style scoped>\n",
              "    .dataframe tbody tr th:only-of-type {\n",
              "        vertical-align: middle;\n",
              "    }\n",
              "\n",
              "    .dataframe tbody tr th {\n",
              "        vertical-align: top;\n",
              "    }\n",
              "\n",
              "    .dataframe thead th {\n",
              "        text-align: right;\n",
              "    }\n",
              "</style>\n",
              "<table border=\"1\" class=\"dataframe\">\n",
              "  <thead>\n",
              "    <tr style=\"text-align: right;\">\n",
              "      <th></th>\n",
              "      <th>DataType</th>\n",
              "    </tr>\n",
              "  </thead>\n",
              "  <tbody>\n",
              "    <tr>\n",
              "      <th>image_url</th>\n",
              "      <td>object</td>\n",
              "    </tr>\n",
              "    <tr>\n",
              "      <th>title</th>\n",
              "      <td>object</td>\n",
              "    </tr>\n",
              "    <tr>\n",
              "      <th>description</th>\n",
              "      <td>object</td>\n",
              "    </tr>\n",
              "    <tr>\n",
              "      <th>url</th>\n",
              "      <td>object</td>\n",
              "    </tr>\n",
              "    <tr>\n",
              "      <th>publication_date</th>\n",
              "      <td>object</td>\n",
              "    </tr>\n",
              "    <tr>\n",
              "      <th>last_published_date</th>\n",
              "      <td>datetime64[ns, pytz.FixedOffset(-240)]</td>\n",
              "    </tr>\n",
              "    <tr>\n",
              "      <th>category</th>\n",
              "      <td>object</td>\n",
              "    </tr>\n",
              "    <tr>\n",
              "      <th>is_breaking</th>\n",
              "      <td>bool</td>\n",
              "    </tr>\n",
              "    <tr>\n",
              "      <th>is_live</th>\n",
              "      <td>bool</td>\n",
              "    </tr>\n",
              "    <tr>\n",
              "      <th>duration</th>\n",
              "      <td>float64</td>\n",
              "    </tr>\n",
              "    <tr>\n",
              "      <th>authors</th>\n",
              "      <td>object</td>\n",
              "    </tr>\n",
              "    <tr>\n",
              "      <th>text</th>\n",
              "      <td>object</td>\n",
              "    </tr>\n",
              "    <tr>\n",
              "      <th>published_day</th>\n",
              "      <td>int64</td>\n",
              "    </tr>\n",
              "    <tr>\n",
              "      <th>published_month</th>\n",
              "      <td>object</td>\n",
              "    </tr>\n",
              "  </tbody>\n",
              "</table>\n",
              "</div>"
            ],
            "text/plain": [
              "                                                   DataType\n",
              "image_url                                            object\n",
              "title                                                object\n",
              "description                                          object\n",
              "url                                                  object\n",
              "publication_date                                     object\n",
              "last_published_date  datetime64[ns, pytz.FixedOffset(-240)]\n",
              "category                                             object\n",
              "is_breaking                                            bool\n",
              "is_live                                                bool\n",
              "duration                                            float64\n",
              "authors                                              object\n",
              "text                                                 object\n",
              "published_day                                         int64\n",
              "published_month                                      object"
            ]
          },
          "execution_count": 9,
          "metadata": {},
          "output_type": "execute_result"
        }
      ],
      "source": [
        "## lets check the data types again\n",
        "pd.DataFrame(data.dtypes, columns=['DataType'])"
      ]
    },
    {
      "cell_type": "markdown",
      "metadata": {},
      "source": [
        "### Check for Missing Data"
      ]
    },
    {
      "cell_type": "code",
      "execution_count": 10,
      "metadata": {},
      "outputs": [
        {
          "data": {
            "text/plain": [
              "image_url              0.000000\n",
              "title                  0.000000\n",
              "description            0.000503\n",
              "url                    0.000000\n",
              "publication_date       0.000000\n",
              "last_published_date    0.000000\n",
              "category               0.000000\n",
              "is_breaking            0.000000\n",
              "is_live                0.000000\n",
              "duration               1.000000\n",
              "authors                0.000000\n",
              "text                   0.000754\n",
              "published_day          0.000000\n",
              "published_month        0.000000\n",
              "dtype: float64"
            ]
          },
          "execution_count": 10,
          "metadata": {},
          "output_type": "execute_result"
        }
      ],
      "source": [
        "## lets check if there are any null values in the data\n",
        "data.isnull().mean()"
      ]
    },
    {
      "cell_type": "markdown",
      "metadata": {},
      "source": [
        "##### Notes\n",
        "* So the duration colunmn has `100%` data missing which makes sense cause this is text content, we can safely drop this data. \n",
        "* Both `description` and `text` has less than `1%` missing data.  We don't care too much about `description` since we are not going to use it for our models, but for missing `text` we have 2 options, \n",
        "     * Drop the missing data rows, since its less than `1%` we won't be loosing too much data. \n",
        "     * Try and scrape the missing data again. \n",
        "* I am going to start with `Option 2` and try and scrape the missing data. If that doesn't work we can drop the rows. \n",
        "* For description we can just add placeholder \"Not Available\" string. "
      ]
    },
    {
      "cell_type": "code",
      "execution_count": 11,
      "metadata": {},
      "outputs": [],
      "source": [
        "## using fillna to fill the null values in description. \n",
        "data['description'].fillna('Not Available', inplace=True)"
      ]
    },
    {
      "cell_type": "code",
      "execution_count": 12,
      "metadata": {},
      "outputs": [
        {
          "data": {
            "text/plain": [
              "array(['https://www.foxnews.com/politics/cartoons-slideshow',\n",
              "       'https://www.foxnews.com/politics/photos-president-trump-family-gather-funeral-ivana-trump',\n",
              "       'https://www.foxnews.com/politics/supreme-court-overturns-roe-v-wade-photos-protesters-crowds-outside'],\n",
              "      dtype=object)"
            ]
          },
          "execution_count": 12,
          "metadata": {},
          "output_type": "execute_result"
        }
      ],
      "source": [
        "## lets try and check the URL for missing data\n",
        "data[data[\"text\"].isnull()][\"url\"].unique()"
      ]
    },
    {
      "cell_type": "markdown",
      "metadata": {},
      "source": [
        "##### Notes\n",
        "* So I checked the URLs manually and it looks like these are just image slide shows and no content.  So it should be ok to drop the rows. "
      ]
    },
    {
      "cell_type": "markdown",
      "metadata": {},
      "source": [
        "### Dropping Missing Data\n"
      ]
    },
    {
      "cell_type": "code",
      "execution_count": 13,
      "metadata": {},
      "outputs": [
        {
          "data": {
            "text/plain": [
              "(39757, 14)"
            ]
          },
          "execution_count": 13,
          "metadata": {},
          "output_type": "execute_result"
        }
      ],
      "source": [
        "## lets check the dropping of the null values - ignoring inplace for now\n",
        "data.dropna(subset=[\"text\"]).isnull().mean()\n",
        "\n",
        "## lets check the shape of the data\n",
        "data.dropna(subset=[\"text\"]).shape"
      ]
    },
    {
      "cell_type": "markdown",
      "metadata": {},
      "source": [
        "##### Notes\n",
        "* So we'll loose ~30 rows, which makes me think why are there 30 rows with 3 URLs.  "
      ]
    },
    {
      "cell_type": "code",
      "execution_count": 14,
      "metadata": {},
      "outputs": [
        {
          "data": {
            "text/plain": [
              "(39757, 14)"
            ]
          },
          "execution_count": 14,
          "metadata": {},
          "output_type": "execute_result"
        }
      ],
      "source": [
        "## drop rows in place\n",
        "data.dropna(subset=[\"text\"], inplace=True)\n",
        "data.shape"
      ]
    },
    {
      "cell_type": "markdown",
      "metadata": {},
      "source": [
        "### Checking for duplicates\n",
        "* So earlier we saw that there were 30 rows with same URL. That shouldn't be the case, the assumption is that each row is a unique news article. Lets confirm that. "
      ]
    },
    {
      "cell_type": "code",
      "execution_count": 15,
      "metadata": {},
      "outputs": [
        {
          "data": {
            "text/plain": [
              "(3972,)"
            ]
          },
          "execution_count": 15,
          "metadata": {},
          "output_type": "execute_result"
        }
      ],
      "source": [
        "## lets check for duplicate urls\n",
        "data[\"url\"].unique().shape"
      ]
    },
    {
      "cell_type": "markdown",
      "metadata": {},
      "source": [
        "##### Notes\n",
        "* We only have `3972` rows! Which means are data is 10 times less than expected. \n",
        "* Lets investigate some more\n"
      ]
    },
    {
      "cell_type": "code",
      "execution_count": 16,
      "metadata": {},
      "outputs": [
        {
          "data": {
            "text/plain": [
              "array(['https://www.foxnews.com/politics/hassan-bolduc-trade-fire-final-showdown-after-gop-nominee-comes-under-attack-arriving-debate',\n",
              "       'https://www.foxnews.com/politics/biden-speech',\n",
              "       'https://www.foxnews.com/politics/nyc-naked-cowboy-makes-endorsement-while-performing-times-square-restore-law-order',\n",
              "       ...,\n",
              "       'https://www.foxnews.com/politics/florida-desantis-campaign-warns-donations-pac-dont-benefit-reelection',\n",
              "       'https://www.foxnews.com/politics/west-point-cadets-taught-critical-race-theory-addressing-whiteness-docs-show',\n",
              "       'https://www.foxnews.com/politics/cia-officer-turned-democratic-congresswoman-spanberger-emphasizes-proud-american'],\n",
              "      dtype=object)"
            ]
          },
          "execution_count": 16,
          "metadata": {},
          "output_type": "execute_result"
        }
      ],
      "source": [
        "data[\"url\"].unique()"
      ]
    },
    {
      "cell_type": "code",
      "execution_count": 17,
      "metadata": {},
      "outputs": [
        {
          "data": {
            "text/plain": [
              "9"
            ]
          },
          "execution_count": 17,
          "metadata": {},
          "output_type": "execute_result"
        }
      ],
      "source": [
        "len(data.query(\"url=='https://www.foxnews.com/politics/nyc-naked-cowboy-makes-endorsement-while-performing-times-square-restore-law-order'\"))"
      ]
    },
    {
      "cell_type": "markdown",
      "metadata": {},
      "source": [
        "##### Notes\n",
        "* So looks like we have a lot of duplicates.  Most probably due to our web scraper. \n",
        "* Lets try to remove duplicates and see how it affects our dataset size. "
      ]
    },
    {
      "cell_type": "markdown",
      "metadata": {},
      "source": [
        "### Removing Duplicates"
      ]
    },
    {
      "cell_type": "code",
      "execution_count": 18,
      "metadata": {},
      "outputs": [
        {
          "data": {
            "text/plain": [
              "(3972, 14)"
            ]
          },
          "execution_count": 18,
          "metadata": {},
          "output_type": "execute_result"
        }
      ],
      "source": [
        "## lets check dataset size after removing for duplicate urls\n",
        "data.drop_duplicates(subset=[\"url\"]).shape\n"
      ]
    },
    {
      "cell_type": "markdown",
      "metadata": {},
      "source": [
        "##### Notes\n",
        "* So after removing duplicates we'll still have `3972` records, which is a lot less that I wanted but might be enough for topic labelling. We can start with these records and once have the steps and process in place can try and scrape more data. "
      ]
    },
    {
      "cell_type": "code",
      "execution_count": 19,
      "metadata": {},
      "outputs": [
        {
          "data": {
            "text/plain": [
              "(3972, 14)"
            ]
          },
          "execution_count": 19,
          "metadata": {},
          "output_type": "execute_result"
        }
      ],
      "source": [
        "## dropping duplicates in place\n",
        "data.drop_duplicates(subset=[\"url\"], inplace=True)\n",
        "data.shape"
      ]
    },
    {
      "cell_type": "markdown",
      "metadata": {},
      "source": [
        "### Removing unused columns\n",
        "* So columns like `category`, `is_live`, `is_breaking` and `duration` are not useful to us because, \n",
        "     * `category`: Is just `json` object with `relative url` and one word `category` for the news article. \n",
        "     * `is_live` is boolean for whether the news is live or not, not applicable to text news content, all values are false. \n",
        "     * `is_breaking` is boolean for whether the news is breaking news or not, not applicable for our use case and all values are false. \n",
        "     * `duration` is video duration, again not applicable to our use case. \n",
        "* Also I think `image_url` and `publication_date` columns are also not useful. `image_url` is just link to image used in article and `publication_date` is `last_published_date` in local timezone. \n",
        "* Lets drop these columns to further reduce the dataset size. \n"
      ]
    },
    {
      "cell_type": "code",
      "execution_count": 20,
      "metadata": {},
      "outputs": [],
      "source": [
        "data.drop([\"is_live\", \"is_breaking\", \"duration\", \"category\", \"image_url\", \"publication_date\"], axis=1, inplace=True)"
      ]
    },
    {
      "cell_type": "code",
      "execution_count": 21,
      "metadata": {},
      "outputs": [
        {
          "data": {
            "text/plain": [
              "(3972, 8)"
            ]
          },
          "execution_count": 21,
          "metadata": {},
          "output_type": "execute_result"
        }
      ],
      "source": [
        "data.shape"
      ]
    },
    {
      "cell_type": "markdown",
      "metadata": {},
      "source": [
        "### Feature Engineering Authors\n",
        "* Right now `authors` column is a `json` array author name, we can extract the author name from the array and save it as string"
      ]
    },
    {
      "cell_type": "code",
      "execution_count": 22,
      "metadata": {},
      "outputs": [
        {
          "data": {
            "text/plain": [
              "0     [{'name': 'Paul Steinhauser'}]\n",
              "1           [{'name': 'Haris Alic'}]\n",
              "2           [{'name': 'Adam Sabes'}]\n",
              "9        [{'name': 'Bradford Betz'}]\n",
              "22       [{'name': 'Bradford Betz'}]\n",
              "Name: authors, dtype: object"
            ]
          },
          "execution_count": 22,
          "metadata": {},
          "output_type": "execute_result"
        }
      ],
      "source": [
        "data.head()[\"authors\"]"
      ]
    },
    {
      "cell_type": "markdown",
      "metadata": {},
      "source": [
        "##### Notes\n",
        "* So the assumption here is that each article has just one author, lets first confirm that by adding new column `num_authors` "
      ]
    },
    {
      "cell_type": "code",
      "execution_count": 23,
      "metadata": {},
      "outputs": [
        {
          "data": {
            "text/plain": [
              "(498, 9)"
            ]
          },
          "execution_count": 23,
          "metadata": {},
          "output_type": "execute_result"
        }
      ],
      "source": [
        "## using ast to convert string to list\n",
        "import ast\n",
        "## helper function to map number of authords\n",
        "def find_num_author(authorArrayString):\n",
        "   authorArray = ast.literal_eval(authorArrayString)\n",
        "   # authorsString = authorArray[0]\n",
        "   # authors = json.loads(authorsString)\n",
        "   return len(authorArray)  \n",
        "   \n",
        "## lets apply the function to the data\n",
        "data[\"num_authors\"] = data[\"authors\"].apply(find_num_author)\n",
        "\n",
        "## lets check if num_authors is is more than 1\n",
        "data[data[\"num_authors\"] > 1].shape"
      ]
    },
    {
      "cell_type": "code",
      "execution_count": 24,
      "metadata": {},
      "outputs": [
        {
          "data": {
            "text/plain": [
              "1    3373\n",
              "2     434\n",
              "0     101\n",
              "3      53\n",
              "4      10\n",
              "5       1\n",
              "Name: num_authors, dtype: int64"
            ]
          },
          "execution_count": 24,
          "metadata": {},
          "output_type": "execute_result"
        }
      ],
      "source": [
        "## lets check num_authors is is more than 1\n",
        "data[\"num_authors\"].value_counts()"
      ]
    },
    {
      "cell_type": "code",
      "execution_count": 25,
      "metadata": {},
      "outputs": [
        {
          "data": {
            "text/plain": [
              "75       [{'name': 'Adam Shaw'}, {'name': 'Bill Melugin'}]\n",
              "91       [{'name': 'Aubrie Spady'}, {'name': 'Sophia Sl...\n",
              "107      [{'name': 'Kyle Morris'}, {'name': 'Sophia Sla...\n",
              "181      [{'name': 'Paul Steinhauser'}, {'name': 'Brook...\n",
              "291      [{'name': 'Timothy Nerozzi'}, {'name': 'Courtn...\n",
              "                               ...                        \n",
              "39476    [{'name': 'Brandon Gillespie'}, {'name': 'Thom...\n",
              "39638    [{'name': 'Lisa Bennatan'}, {'name': 'Megan My...\n",
              "39699    [{'name': 'Lisa Bennatan'}, {'name': 'Jon Raas...\n",
              "39726    [{'name': 'Chad Pergram'}, {'name': 'Paul Best'}]\n",
              "39786    [{'name': 'Paul Steinhauser'}, {'name': 'Andre...\n",
              "Name: authors, Length: 498, dtype: object"
            ]
          },
          "execution_count": 25,
          "metadata": {},
          "output_type": "execute_result"
        }
      ],
      "source": [
        "## just to confirm lets also check the values there. \n",
        "data[data[\"num_authors\"] > 1][\"authors\"]"
      ]
    },
    {
      "cell_type": "markdown",
      "metadata": {},
      "source": [
        "##### Notes\n",
        "* So we have ~500 records with more than 1 author, our assumption was clearly wrong. \n",
        "* There are ~100 records with no author, we'll just add unknown there. \n",
        "* In order to feature engineer this we can creat a CSV string value of authors, and each author name will be combined using an underscore. \n",
        "* That was searching and analyzing would be easier. "
      ]
    },
    {
      "cell_type": "code",
      "execution_count": 26,
      "metadata": {},
      "outputs": [],
      "source": [
        "## helper function to convert author object to string\n",
        "def find_author(authorArrayString):\n",
        "   authorArray = ast.literal_eval(authorArrayString)\n",
        "   if(len(authorArray) == 0):\n",
        "      return \"Unknown\"\n",
        "   authors = [\"_\".join(author[\"name\"].split(\" \")) for author in authorArray]\n",
        "   return \",\".join(authors)\n",
        "   \n",
        "\n",
        "## lets apply the function to the data\n",
        "data[\"author\"] = data[\"authors\"].apply(find_author)"
      ]
    },
    {
      "cell_type": "markdown",
      "metadata": {},
      "source": [
        "### Feature Engineering Word Count\n",
        "* Even though it might not be 100% accurate lets create a feature with word count for EDA\n"
      ]
    },
    {
      "cell_type": "code",
      "execution_count": 27,
      "metadata": {},
      "outputs": [
        {
          "data": {
            "text/plain": [
              "count    3972.000000\n",
              "mean      610.804884\n",
              "std       340.785100\n",
              "min        31.000000\n",
              "25%       399.000000\n",
              "50%       534.000000\n",
              "75%       734.000000\n",
              "max      9672.000000\n",
              "Name: word_count, dtype: float64"
            ]
          },
          "execution_count": 27,
          "metadata": {},
          "output_type": "execute_result"
        }
      ],
      "source": [
        "## helper funtion to create word count from text column\n",
        "def word_count(text):\n",
        "   return len(text.split(\" \"))\n",
        "\n",
        "data[\"word_count\"] = data[\"text\"].apply(word_count)\n",
        "data[\"word_count\"].describe()"
      ]
    },
    {
      "cell_type": "markdown",
      "metadata": {},
      "source": [
        "##### Notes\n",
        "* Interesting there is an outlier article with `9672` words! Would be interesting to check it out. \n",
        "* Also the article with just 31 words, we'll need to check them out in EDA"
      ]
    },
    {
      "cell_type": "markdown",
      "metadata": {},
      "source": [
        "### Feature Engineering Line Count"
      ]
    },
    {
      "cell_type": "markdown",
      "metadata": {},
      "source": [
        "* Again even though it might not be 100% accurate lets create a feature with line count for EDA\n"
      ]
    },
    {
      "cell_type": "code",
      "execution_count": 28,
      "metadata": {},
      "outputs": [
        {
          "data": {
            "text/plain": [
              "count    3972.000000\n",
              "mean       31.652064\n",
              "std        19.232276\n",
              "min         3.000000\n",
              "25%        21.000000\n",
              "50%        28.000000\n",
              "75%        37.000000\n",
              "max       647.000000\n",
              "Name: line_count, dtype: float64"
            ]
          },
          "execution_count": 28,
          "metadata": {},
          "output_type": "execute_result"
        }
      ],
      "source": [
        "## helper function to create line count from text column\n",
        "def create_line_count(text):\n",
        "   return len(text.split(\".\"))\n",
        "\n",
        "data[\"line_count\"] = data[\"text\"].apply(create_line_count)\n",
        "data[\"line_count\"].describe()"
      ]
    },
    {
      "cell_type": "markdown",
      "metadata": {},
      "source": [
        "#### Notes\n",
        "* As expected after looking at the number of words, the min and max articles seem to be outlier with `3` and `647` lines respectively. \n",
        "* We'll need to investigate that. "
      ]
    },
    {
      "cell_type": "code",
      "execution_count": 29,
      "metadata": {},
      "outputs": [
        {
          "data": {
            "text/plain": [
              "title                  0.0\n",
              "description            0.0\n",
              "url                    0.0\n",
              "last_published_date    0.0\n",
              "authors                0.0\n",
              "text                   0.0\n",
              "published_day          0.0\n",
              "published_month        0.0\n",
              "num_authors            0.0\n",
              "author                 0.0\n",
              "word_count             0.0\n",
              "line_count             0.0\n",
              "dtype: float64"
            ]
          },
          "execution_count": 29,
          "metadata": {},
          "output_type": "execute_result"
        }
      ],
      "source": [
        "data.isnull().mean()"
      ]
    },
    {
      "cell_type": "markdown",
      "metadata": {},
      "source": [
        "## Exploratory Data Analysis\n",
        "* Lets try and do some EDA to get some stats on following\n",
        "     * Average number of articles per day/week/month\n",
        "     * Average number of articles per author\n",
        "     * Average number of words an author writes\n",
        "     * Average number of articles an author writes per day/week/month. \n",
        "     * Analyze the outliers\n"
      ]
    },
    {
      "cell_type": "code",
      "execution_count": 32,
      "metadata": {},
      "outputs": [
        {
          "data": {
            "text/html": [
              "<div>\n",
              "<style scoped>\n",
              "    .dataframe tbody tr th:only-of-type {\n",
              "        vertical-align: middle;\n",
              "    }\n",
              "\n",
              "    .dataframe tbody tr th {\n",
              "        vertical-align: top;\n",
              "    }\n",
              "\n",
              "    .dataframe thead th {\n",
              "        text-align: right;\n",
              "    }\n",
              "</style>\n",
              "<table border=\"1\" class=\"dataframe\">\n",
              "  <thead>\n",
              "    <tr style=\"text-align: right;\">\n",
              "      <th></th>\n",
              "      <th>title</th>\n",
              "      <th>description</th>\n",
              "      <th>url</th>\n",
              "      <th>last_published_date</th>\n",
              "      <th>authors</th>\n",
              "      <th>text</th>\n",
              "      <th>published_day</th>\n",
              "      <th>published_month</th>\n",
              "      <th>num_authors</th>\n",
              "      <th>author</th>\n",
              "      <th>word_count</th>\n",
              "      <th>line_count</th>\n",
              "    </tr>\n",
              "  </thead>\n",
              "  <tbody>\n",
              "    <tr>\n",
              "      <th>0</th>\n",
              "      <td>Hassan and Bolduc trade fire in final showdown...</td>\n",
              "      <td>A bystander took a swing at Republican Senate ...</td>\n",
              "      <td>https://www.foxnews.com/politics/hassan-bolduc...</td>\n",
              "      <td>2022-11-02 22:47:00-04:00</td>\n",
              "      <td>[{'name': 'Paul Steinhauser'}]</td>\n",
              "      <td>Former governor and first term Democratic Sen....</td>\n",
              "      <td>2</td>\n",
              "      <td>11</td>\n",
              "      <td>1</td>\n",
              "      <td>Paul_Steinhauser</td>\n",
              "      <td>1271</td>\n",
              "      <td>62</td>\n",
              "    </tr>\n",
              "    <tr>\n",
              "      <th>1</th>\n",
              "      <td>Biden suggests voting for Republicans is a thr...</td>\n",
              "      <td>President Biden said the only way to repudiate...</td>\n",
              "      <td>https://www.foxnews.com/politics/biden-speech</td>\n",
              "      <td>2022-11-02 22:15:46-04:00</td>\n",
              "      <td>[{'name': 'Haris Alic'}]</td>\n",
              "      <td>President Biden urged Democrats on Wednesday t...</td>\n",
              "      <td>2</td>\n",
              "      <td>11</td>\n",
              "      <td>1</td>\n",
              "      <td>Haris_Alic</td>\n",
              "      <td>478</td>\n",
              "      <td>22</td>\n",
              "    </tr>\n",
              "    <tr>\n",
              "      <th>2</th>\n",
              "      <td>NYC's Naked Cowboy makes endorsement for gov w...</td>\n",
              "      <td>New York City's Naked Cowboy endorsed Lee Zeld...</td>\n",
              "      <td>https://www.foxnews.com/politics/nyc-naked-cow...</td>\n",
              "      <td>2022-11-02 21:58:25-04:00</td>\n",
              "      <td>[{'name': 'Adam Sabes'}]</td>\n",
              "      <td>The famous Naked Cowboy in New York City's Tim...</td>\n",
              "      <td>2</td>\n",
              "      <td>11</td>\n",
              "      <td>1</td>\n",
              "      <td>Adam_Sabes</td>\n",
              "      <td>205</td>\n",
              "      <td>18</td>\n",
              "    </tr>\n",
              "    <tr>\n",
              "      <th>9</th>\n",
              "      <td>Wisconsin courts shoot down liberal groups' at...</td>\n",
              "      <td>A Wisconsin appeals court and a circuit judge ...</td>\n",
              "      <td>https://www.foxnews.com/politics/wisconsin-cou...</td>\n",
              "      <td>2022-11-02 21:44:40-04:00</td>\n",
              "      <td>[{'name': 'Bradford Betz'}]</td>\n",
              "      <td>Liberal groups in Wisconsin seeking to change ...</td>\n",
              "      <td>2</td>\n",
              "      <td>11</td>\n",
              "      <td>1</td>\n",
              "      <td>Bradford_Betz</td>\n",
              "      <td>381</td>\n",
              "      <td>20</td>\n",
              "    </tr>\n",
              "    <tr>\n",
              "      <th>22</th>\n",
              "      <td>Texas gubernatorial candidate Beto O'Rourke jo...</td>\n",
              "      <td>Texas gubernatorial nominee Beto O’Rourke is t...</td>\n",
              "      <td>https://www.foxnews.com/politics/texas-guberna...</td>\n",
              "      <td>2022-11-02 20:38:30-04:00</td>\n",
              "      <td>[{'name': 'Bradford Betz'}]</td>\n",
              "      <td>Texas gubernatorial nominee Beto O’Rourke is a...</td>\n",
              "      <td>2</td>\n",
              "      <td>11</td>\n",
              "      <td>1</td>\n",
              "      <td>Bradford_Betz</td>\n",
              "      <td>267</td>\n",
              "      <td>15</td>\n",
              "    </tr>\n",
              "  </tbody>\n",
              "</table>\n",
              "</div>"
            ],
            "text/plain": [
              "                                                title  \\\n",
              "0   Hassan and Bolduc trade fire in final showdown...   \n",
              "1   Biden suggests voting for Republicans is a thr...   \n",
              "2   NYC's Naked Cowboy makes endorsement for gov w...   \n",
              "9   Wisconsin courts shoot down liberal groups' at...   \n",
              "22  Texas gubernatorial candidate Beto O'Rourke jo...   \n",
              "\n",
              "                                          description  \\\n",
              "0   A bystander took a swing at Republican Senate ...   \n",
              "1   President Biden said the only way to repudiate...   \n",
              "2   New York City's Naked Cowboy endorsed Lee Zeld...   \n",
              "9   A Wisconsin appeals court and a circuit judge ...   \n",
              "22  Texas gubernatorial nominee Beto O’Rourke is t...   \n",
              "\n",
              "                                                  url  \\\n",
              "0   https://www.foxnews.com/politics/hassan-bolduc...   \n",
              "1       https://www.foxnews.com/politics/biden-speech   \n",
              "2   https://www.foxnews.com/politics/nyc-naked-cow...   \n",
              "9   https://www.foxnews.com/politics/wisconsin-cou...   \n",
              "22  https://www.foxnews.com/politics/texas-guberna...   \n",
              "\n",
              "         last_published_date                         authors  \\\n",
              "0  2022-11-02 22:47:00-04:00  [{'name': 'Paul Steinhauser'}]   \n",
              "1  2022-11-02 22:15:46-04:00        [{'name': 'Haris Alic'}]   \n",
              "2  2022-11-02 21:58:25-04:00        [{'name': 'Adam Sabes'}]   \n",
              "9  2022-11-02 21:44:40-04:00     [{'name': 'Bradford Betz'}]   \n",
              "22 2022-11-02 20:38:30-04:00     [{'name': 'Bradford Betz'}]   \n",
              "\n",
              "                                                 text  published_day  \\\n",
              "0   Former governor and first term Democratic Sen....              2   \n",
              "1   President Biden urged Democrats on Wednesday t...              2   \n",
              "2   The famous Naked Cowboy in New York City's Tim...              2   \n",
              "9   Liberal groups in Wisconsin seeking to change ...              2   \n",
              "22  Texas gubernatorial nominee Beto O’Rourke is a...              2   \n",
              "\n",
              "    published_month  num_authors            author  word_count  line_count  \n",
              "0                11            1  Paul_Steinhauser        1271          62  \n",
              "1                11            1        Haris_Alic         478          22  \n",
              "2                11            1        Adam_Sabes         205          18  \n",
              "9                11            1     Bradford_Betz         381          20  \n",
              "22               11            1     Bradford_Betz         267          15  "
            ]
          },
          "execution_count": 32,
          "metadata": {},
          "output_type": "execute_result"
        }
      ],
      "source": [
        "data.head()"
      ]
    },
    {
      "cell_type": "code",
      "execution_count": null,
      "metadata": {},
      "outputs": [],
      "source": []
    }
  ],
  "metadata": {
    "colab": {
      "authorship_tag": "ABX9TyPKORsQw3roeYsLTZlGa+7N",
      "include_colab_link": true,
      "private_outputs": true,
      "provenance": [],
      "toc_visible": true
    },
    "kernelspec": {
      "display_name": "Python 3.10.6 ('env': venv)",
      "language": "python",
      "name": "python3"
    },
    "language_info": {
      "codemirror_mode": {
        "name": "ipython",
        "version": 3
      },
      "file_extension": ".py",
      "mimetype": "text/x-python",
      "name": "python",
      "nbconvert_exporter": "python",
      "pygments_lexer": "ipython3",
      "version": "3.10.6"
    },
    "vscode": {
      "interpreter": {
        "hash": "072e000fc02283ef03ef016ae4d471af267a655ab38f930dab1b1ce7ec9f12c0"
      }
    }
  },
  "nbformat": 4,
  "nbformat_minor": 0
}
